{
 "cells": [
  {
   "cell_type": "markdown",
   "metadata": {},
   "source": [
    "# Modelo AWD-LSTM"
   ]
  },
  {
   "cell_type": "code",
   "execution_count": null,
   "metadata": {},
   "outputs": [],
   "source": [
    "import os\n",
    "os.getcwd()"
   ]
  },
  {
   "cell_type": "code",
   "execution_count": null,
   "metadata": {},
   "outputs": [],
   "source": [
    "from fastai.text.all import *\n",
    "from IPython.display import display, HTML"
   ]
  },
  {
   "cell_type": "code",
   "execution_count": null,
   "metadata": {},
   "outputs": [],
   "source": [
    "device = torch.device('cuda' if torch.cuda.is_available() else 'cpu')\n",
    "device"
   ]
  },
  {
   "cell_type": "code",
   "execution_count": null,
   "metadata": {},
   "outputs": [],
   "source": [
    "path = Path('/kaggle/working')\n",
    "model_path = Path('models')"
   ]
  },
  {
   "cell_type": "markdown",
   "metadata": {
    "id": "yTGdYxoaKZhb"
   },
   "source": [
    "## Regresión con biografías"
   ]
  },
  {
   "cell_type": "code",
   "execution_count": null,
   "metadata": {
    "execution": {
     "iopub.execute_input": "2022-04-03T17:15:42.713219Z",
     "iopub.status.busy": "2022-04-03T17:15:42.712640Z",
     "iopub.status.idle": "2022-04-03T17:15:42.722255Z",
     "shell.execute_reply": "2022-04-03T17:15:42.718278Z",
     "shell.execute_reply.started": "2022-04-03T17:15:42.713178Z"
    },
    "trusted": true
   },
   "outputs": [],
   "source": [
    "from sklearn.model_selection import train_test_split"
   ]
  },
  {
   "cell_type": "code",
   "execution_count": null,
   "metadata": {
    "execution": {
     "iopub.execute_input": "2022-04-03T17:15:42.732492Z",
     "iopub.status.busy": "2022-04-03T17:15:42.731379Z",
     "iopub.status.idle": "2022-04-03T17:15:42.790667Z",
     "shell.execute_reply": "2022-04-03T17:15:42.785460Z",
     "shell.execute_reply.started": "2022-04-03T17:15:42.732444Z"
    },
    "trusted": true
   },
   "outputs": [],
   "source": [
    "df_reg = pd.read_csv('../input/es-wiki/Etiquetado_Mano1.csv')\n",
    "df_reg[['F', 'D/C', 'A/C/F', 'L', 'P', 'Ac']] = df_reg[['F', 'D/C', 'A/C/F', 'L', 'P', 'Ac']].apply(pd.to_numeric)"
   ]
  },
  {
   "cell_type": "code",
   "execution_count": null,
   "metadata": {
    "execution": {
     "iopub.execute_input": "2022-04-03T17:15:42.792878Z",
     "iopub.status.busy": "2022-04-03T17:15:42.792549Z",
     "iopub.status.idle": "2022-04-03T17:15:42.830627Z",
     "shell.execute_reply": "2022-04-03T17:15:42.829707Z",
     "shell.execute_reply.started": "2022-04-03T17:15:42.792816Z"
    },
    "trusted": true
   },
   "outputs": [],
   "source": [
    "train_df, test_df = train_test_split(df_reg, test_size=0.3, random_state=21)\n",
    "df = train_df\n",
    "df.head()"
   ]
  },
  {
   "cell_type": "code",
   "execution_count": null,
   "metadata": {
    "execution": {
     "iopub.execute_input": "2022-04-03T17:15:42.832570Z",
     "iopub.status.busy": "2022-04-03T17:15:42.832166Z",
     "iopub.status.idle": "2022-04-03T17:15:46.943275Z",
     "shell.execute_reply": "2022-04-03T17:15:46.942240Z",
     "shell.execute_reply.started": "2022-04-03T17:15:42.832530Z"
    },
    "trusted": true
   },
   "outputs": [],
   "source": [
    "train_dls = TextDataLoaders.from_df(df=train_df, valid_pct=0.1, seed=42, text_col='bio', text_vocab=dls_finanzas.vocab, bs=64, seq_len=512,\n",
    "                                  label_col=['F', 'D/C', 'A/C/F', 'L', 'P', 'Ac'],\n",
    "                                  y_block=RegressionBlock(n_out=6))"
   ]
  },
  {
   "cell_type": "code",
   "execution_count": null,
   "metadata": {
    "execution": {
     "iopub.execute_input": "2022-04-03T17:15:46.953127Z",
     "iopub.status.busy": "2022-04-03T17:15:46.952553Z",
     "iopub.status.idle": "2022-04-03T17:15:54.221240Z",
     "shell.execute_reply": "2022-04-03T17:15:54.220213Z",
     "shell.execute_reply.started": "2022-04-03T17:15:46.953086Z"
    },
    "trusted": true
   },
   "outputs": [],
   "source": [
    "learn = text_classifier_learner(train_dls, AWD_LSTM, drop_mult=0.5,\n",
    "                                n_out=6,\n",
    "                                y_range=(0, 1), metrics=[rmse]\n",
    "                                ).to_fp16()"
   ]
  },
  {
   "cell_type": "code",
   "execution_count": null,
   "metadata": {
    "execution": {
     "iopub.execute_input": "2022-04-03T17:15:54.223188Z",
     "iopub.status.busy": "2022-04-03T17:15:54.222868Z",
     "iopub.status.idle": "2022-04-03T17:15:54.229387Z",
     "shell.execute_reply": "2022-04-03T17:15:54.228249Z",
     "shell.execute_reply.started": "2022-04-03T17:15:54.223148Z"
    },
    "trusted": true
   },
   "outputs": [],
   "source": [
    "learn.load_encoder('es_wiki_fin_encoder')"
   ]
  },
  {
   "cell_type": "code",
   "execution_count": null,
   "metadata": {
    "execution": {
     "iopub.execute_input": "2022-04-03T17:15:54.231646Z",
     "iopub.status.busy": "2022-04-03T17:15:54.231164Z",
     "iopub.status.idle": "2022-04-03T17:16:17.450830Z",
     "shell.execute_reply": "2022-04-03T17:16:17.449833Z",
     "shell.execute_reply.started": "2022-04-03T17:15:54.231516Z"
    },
    "id": "nwmp6sBxKd2i",
    "trusted": true
   },
   "outputs": [],
   "source": [
    "learn.fit_one_cycle(1, 1e-2)\n",
    "learn.freeze_to(-2)\n",
    "learn.fit_one_cycle(1, 1e-2)\n",
    "learn.freeze_to(-3)\n",
    "learn.fit_one_cycle(1, 1e-2)\n",
    "learn.unfreeze()\n",
    "learn.fit_one_cycle(3, 1e-2)"
   ]
  },
  {
   "cell_type": "code",
   "execution_count": null,
   "metadata": {
    "execution": {
     "iopub.execute_input": "2022-04-03T17:16:17.453303Z",
     "iopub.status.busy": "2022-04-03T17:16:17.453009Z",
     "iopub.status.idle": "2022-04-03T17:33:50.386542Z",
     "shell.execute_reply": "2022-04-03T17:33:50.385048Z",
     "shell.execute_reply.started": "2022-04-03T17:16:17.453258Z"
    },
    "trusted": true
   },
   "outputs": [],
   "source": [
    "learn.fit_one_cycle(250, 1e-2)"
   ]
  },
  {
   "cell_type": "code",
   "execution_count": null,
   "metadata": {
    "execution": {
     "iopub.execute_input": "2022-04-03T17:33:50.390217Z",
     "iopub.status.busy": "2022-04-03T17:33:50.389494Z",
     "iopub.status.idle": "2022-04-03T17:33:50.632815Z",
     "shell.execute_reply": "2022-04-03T17:33:50.631704Z",
     "shell.execute_reply.started": "2022-04-03T17:33:50.390150Z"
    },
    "trusted": true
   },
   "outputs": [],
   "source": [
    "learn.save('es_wiki_reg')"
   ]
  }
 ],
 "metadata": {
  "language_info": {
   "name": "python"
  },
  "orig_nbformat": 4
 },
 "nbformat": 4,
 "nbformat_minor": 2
}
