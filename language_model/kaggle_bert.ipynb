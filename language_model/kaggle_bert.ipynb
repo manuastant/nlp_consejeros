{
 "cells": [
  {
   "cell_type": "markdown",
   "id": "03d791c8",
   "metadata": {
    "id": "QsAyL2Fm7fHS",
    "papermill": {
     "duration": 0.034171,
     "end_time": "2022-02-20T17:41:20.644169",
     "exception": false,
     "start_time": "2022-02-20T17:41:20.609998",
     "status": "completed"
    },
    "tags": []
   },
   "source": [
    "# Modelo BERT"
   ]
  },
  {
   "cell_type": "code",
   "execution_count": null,
   "id": "0a4e1cde",
   "metadata": {
    "execution": {
     "iopub.execute_input": "2022-02-20T17:41:20.990219Z",
     "iopub.status.busy": "2022-02-20T17:41:20.982529Z",
     "iopub.status.idle": "2022-02-20T17:41:32.572824Z",
     "shell.execute_reply": "2022-02-20T17:41:32.573919Z",
     "shell.execute_reply.started": "2022-02-20T17:21:47.378259Z"
    },
    "id": "nX0HYJDxkVif",
    "papermill": {
     "duration": 11.624939,
     "end_time": "2022-02-20T17:41:32.574127",
     "exception": false,
     "start_time": "2022-02-20T17:41:20.949188",
     "status": "completed"
    },
    "tags": []
   },
   "outputs": [],
   "source": [
    "import numpy as np\n",
    "import pandas as pd\n",
    "\n",
    "from fastai.text.all import *\n",
    "from fastai.basics import *\n",
    "from fastai.callback.all import *\n",
    "\n",
    "from transformers import AutoModelForMaskedLM, AutoModel, AutoModelForPreTraining, AutoTokenizer, AutoConfig\n",
    "\n",
    "import os"
   ]
  },
  {
   "cell_type": "code",
   "execution_count": null,
   "id": "bed85b46",
   "metadata": {
    "execution": {
     "iopub.execute_input": "2022-02-20T17:41:32.685771Z",
     "iopub.status.busy": "2022-02-20T17:41:32.685014Z",
     "iopub.status.idle": "2022-02-20T17:41:32.690962Z",
     "shell.execute_reply": "2022-02-20T17:41:32.691531Z",
     "shell.execute_reply.started": "2022-02-20T17:22:04.325197Z"
    },
    "id": "wp-tvAt4kn_O",
    "outputId": "257e80da-198a-48f9-bc83-e9905e66cb73",
    "papermill": {
     "duration": 0.065781,
     "end_time": "2022-02-20T17:41:32.691714",
     "exception": false,
     "start_time": "2022-02-20T17:41:32.625933",
     "status": "completed"
    },
    "tags": []
   },
   "outputs": [],
   "source": [
    "os.getcwd()"
   ]
  },
  {
   "cell_type": "markdown",
   "id": "7554fe47",
   "metadata": {
    "id": "JWezzwYk7wER",
    "papermill": {
     "duration": 0.052158,
     "end_time": "2022-02-20T17:41:32.795778",
     "exception": false,
     "start_time": "2022-02-20T17:41:32.743620",
     "status": "completed"
    },
    "tags": []
   },
   "source": [
    "## Datos"
   ]
  },
  {
   "cell_type": "code",
   "execution_count": null,
   "id": "5a04d836",
   "metadata": {
    "execution": {
     "iopub.execute_input": "2022-02-20T17:41:32.904941Z",
     "iopub.status.busy": "2022-02-20T17:41:32.904206Z",
     "iopub.status.idle": "2022-02-20T17:41:33.229842Z",
     "shell.execute_reply": "2022-02-20T17:41:33.229222Z",
     "shell.execute_reply.started": "2022-02-20T17:22:11.859378Z"
    },
    "id": "TrESwGmGFJuk",
    "outputId": "235ed56a-6774-4ddb-be14-7a5f41cd5a74",
    "papermill": {
     "duration": 0.382164,
     "end_time": "2022-02-20T17:41:33.229972",
     "exception": false,
     "start_time": "2022-02-20T17:41:32.847808",
     "status": "completed"
    },
    "tags": []
   },
   "outputs": [],
   "source": [
    "path = Path('/kaggle/working')\n",
    "model_path = Path('models')\n",
    "df = pd.read_csv('../input/es-wiki/books_dataset.csv')\n",
    "df.head()"
   ]
  },
  {
   "cell_type": "markdown",
   "id": "23315c89",
   "metadata": {
    "id": "ToLMfv5d8N1m",
    "papermill": {
     "duration": 0.031908,
     "end_time": "2022-02-20T17:41:33.295043",
     "exception": false,
     "start_time": "2022-02-20T17:41:33.263135",
     "status": "completed"
    },
    "tags": []
   },
   "source": [
    "## Clases automáticas\n",
    "Permiten crear diferentes modelos y tokenizers cambiando el nombre del modelo. En este caso usaremos BERT en español.\n",
    "\n",
    "- `AutoModelForMaskedLM`: modelo de lenguaje.\n",
    "- `AutoTokenizer`: el tokenizador.\n",
    "- `AutoConfig`: define la arquitectura y la configuración (modificable).\n",
    "- `model_name`: nombre del modelo. Consultar https://huggingface.co/models"
   ]
  },
  {
   "cell_type": "code",
   "execution_count": null,
   "id": "f6e2118e",
   "metadata": {
    "execution": {
     "iopub.execute_input": "2022-02-20T17:41:33.370284Z",
     "iopub.status.busy": "2022-02-20T17:41:33.369419Z",
     "iopub.status.idle": "2022-02-20T17:41:34.344728Z",
     "shell.execute_reply": "2022-02-20T17:41:34.337680Z",
     "shell.execute_reply.started": "2022-02-20T17:22:18.129005Z"
    },
    "id": "2q-8Q4kpFnYw",
    "outputId": "7c0086bf-406b-49b9-b912-6d0f5c56a9ee",
    "papermill": {
     "duration": 1.013031,
     "end_time": "2022-02-20T17:41:34.344910",
     "exception": false,
     "start_time": "2022-02-20T17:41:33.331879",
     "status": "completed"
    },
    "tags": []
   },
   "outputs": [],
   "source": [
    "model_name = 'dccuchile/bert-base-spanish-wwm-uncased' \n",
    "lm_model_class = AutoModelForMaskedLM \n",
    "config_dict = AutoConfig.from_pretrained(model_name)"
   ]
  },
  {
   "cell_type": "markdown",
   "id": "4cea27aa",
   "metadata": {
    "id": "rnKCr0Sp9cmJ",
    "papermill": {
     "duration": 0.062327,
     "end_time": "2022-02-20T17:41:34.473854",
     "exception": false,
     "start_time": "2022-02-20T17:41:34.411527",
     "status": "completed"
    },
    "tags": []
   },
   "source": [
    "## Tokenizer y vocab\n",
    "`AutoTokenizer` devuelve un diccionario con `get_vocab`, hay que transformarlo a lista para Fastai."
   ]
  },
  {
   "cell_type": "code",
   "execution_count": null,
   "id": "8b09d66d",
   "metadata": {
    "execution": {
     "iopub.execute_input": "2022-02-20T17:41:34.593202Z",
     "iopub.status.busy": "2022-02-20T17:41:34.592408Z",
     "iopub.status.idle": "2022-02-20T17:41:41.434831Z",
     "shell.execute_reply": "2022-02-20T17:41:41.435246Z",
     "shell.execute_reply.started": "2022-02-20T17:22:24.696431Z"
    },
    "id": "Q3Ry-xpU1hH9",
    "outputId": "fb6e9c45-a7e1-45b9-d93d-f14a0838455c",
    "papermill": {
     "duration": 6.907648,
     "end_time": "2022-02-20T17:41:41.435394",
     "exception": false,
     "start_time": "2022-02-20T17:41:34.527746",
     "status": "completed"
    },
    "tags": []
   },
   "outputs": [],
   "source": [
    "tokenizer = AutoTokenizer.from_pretrained(model_name)\n",
    "tokenizer_vocab=tokenizer.get_vocab() \n",
    "tokenizer_vocab_ls = [k for k, v in sorted(tokenizer_vocab.items(), key=lambda item: item[1])]\n",
    "print(f'Tokenizer: {tokenizer.__class__}')\n",
    "print(f'Vocab length: {len(tokenizer_vocab_ls)}')"
   ]
  },
  {
   "cell_type": "code",
   "execution_count": null,
   "id": "8c8ed342",
   "metadata": {
    "execution": {
     "iopub.execute_input": "2022-02-20T17:41:41.579804Z",
     "iopub.status.busy": "2022-02-20T17:41:41.579131Z",
     "iopub.status.idle": "2022-02-20T17:41:41.581723Z",
     "shell.execute_reply": "2022-02-20T17:41:41.582202Z",
     "shell.execute_reply.started": "2022-02-20T17:22:42.025001Z"
    },
    "id": "ZHxnUi_IFxRf",
    "outputId": "9935fa0b-0ec4-4e62-fb92-ce78ea89a432",
    "papermill": {
     "duration": 0.042368,
     "end_time": "2022-02-20T17:41:41.582330",
     "exception": false,
     "start_time": "2022-02-20T17:41:41.539962",
     "status": "completed"
    },
    "tags": []
   },
   "outputs": [],
   "source": [
    "tokenizer.special_tokens_map"
   ]
  },
  {
   "cell_type": "markdown",
   "id": "d2c8d6d8",
   "metadata": {
    "id": "fDAxvBg2_K9P",
    "papermill": {
     "duration": 0.034388,
     "end_time": "2022-02-20T17:41:41.651505",
     "exception": false,
     "start_time": "2022-02-20T17:41:41.617117",
     "status": "completed"
    },
    "tags": []
   },
   "source": [
    "Encapsular el tokenizador dentro de este para ajustarlo a la entrada deseada por Fastai."
   ]
  },
  {
   "cell_type": "code",
   "execution_count": null,
   "id": "429b8dee",
   "metadata": {
    "execution": {
     "iopub.execute_input": "2022-02-20T17:41:41.730822Z",
     "iopub.status.busy": "2022-02-20T17:41:41.730081Z",
     "iopub.status.idle": "2022-02-20T17:41:41.731875Z",
     "shell.execute_reply": "2022-02-20T17:41:41.732561Z",
     "shell.execute_reply.started": "2022-02-20T17:22:45.573429Z"
    },
    "id": "yJ0glJrG1yzq",
    "papermill": {
     "duration": 0.046661,
     "end_time": "2022-02-20T17:41:41.732683",
     "exception": false,
     "start_time": "2022-02-20T17:41:41.686022",
     "status": "completed"
    },
    "tags": []
   },
   "outputs": [],
   "source": [
    "class FastHugsTokenizer():\n",
    "    \"\"\" \n",
    "        transformer_tokenizer : takes the tokenizer that has been loaded from the tokenizer class\n",
    "        model_name : model type set by the user\n",
    "        max_seq_len : override default sequence length, typically 512 for bert-like models.\n",
    "                           `transformer_tokenizer.max_len_single_sentence` and `transformer_tokenizer.max_len_sentences_pair` \n",
    "                           both account for the need to add additional special tokens, i.e. for RoBERTa-base \n",
    "                           max_len_single_sentence==510, leaving space for the 2 additional special tokens \n",
    "                           to be added for the model's default 512 positional embeddings\n",
    "        pair : whether a single sentence (sequence) or pair of sentences are used\n",
    "\n",
    "        Returns:\n",
    "            - Tokenized text, up to the max sequence length set by the user or the tokenzier default\n",
    "    \"\"\"\n",
    "    def __init__(self, transformer_tokenizer=None, model_name='roberta', max_seq_len=None, \n",
    "                 pretrained=True, pair=False, **kwargs): \n",
    "        self.model_name, self.tok, self.max_seq_len=model_name, transformer_tokenizer, max_seq_len\n",
    "        if pretrained:\n",
    "            if self.max_seq_len:\n",
    "                if pair: assert self.max_seq_len<=self.tok.max_len_sentences_pair, 'WARNING: max_seq_len needs to be less than or equal to transformer_tokenizer.max_len_sentences_pair'\n",
    "                else: assert self.max_seq_len<=self.tok.max_len_single_sentence, 'WARNING: max_seq_len needs to be less than or equal to transformer_tokenizer.max_len_single_sentence'\n",
    "            else:\n",
    "                if pair: self.max_seq_len=ifnone(max_seq_len, self.tok.max_len_sentences_pair) \n",
    "                else: self.max_seq_len=ifnone(max_seq_len, self.tok.max_len_single_sentence)\n",
    "\n",
    "    def do_tokenize(self, o:str):\n",
    "        \"\"\"Returns tokenized text, adds prefix space if needed, limits the maximum sequence length\"\"\"\n",
    "        if 'roberta' in model_name: tokens=self.tok.tokenize(o, add_prefix_space=True)[:self.max_seq_len-2]\n",
    "        else: tokens = self.tok.tokenize(o)[:self.max_seq_len-2]\n",
    "        return tokens\n",
    "    \n",
    "    def de_tokenize(self, o):\n",
    "        \"\"\"Return string from tokens\"\"\"\n",
    "        text=self.tok.convert_tokens_to_string(o)\n",
    "        return text\n",
    "        \n",
    "    def __call__(self, items): \n",
    "        for o in items: yield self.do_tokenize(o)"
   ]
  },
  {
   "cell_type": "code",
   "execution_count": null,
   "id": "bc2658d7",
   "metadata": {
    "execution": {
     "iopub.execute_input": "2022-02-20T17:41:41.876035Z",
     "iopub.status.busy": "2022-02-20T17:41:41.875279Z",
     "iopub.status.idle": "2022-02-20T17:41:41.877196Z",
     "shell.execute_reply": "2022-02-20T17:41:41.877624Z",
     "shell.execute_reply.started": "2022-02-20T17:22:49.534998Z"
    },
    "id": "ojzj8RJsF99p",
    "papermill": {
     "duration": 0.041052,
     "end_time": "2022-02-20T17:41:41.877752",
     "exception": false,
     "start_time": "2022-02-20T17:41:41.836700",
     "status": "completed"
    },
    "tags": []
   },
   "outputs": [],
   "source": [
    "max_seq_len = None\n",
    "sentence_pair = False\n",
    "\n",
    "fasthugstok = FastHugsTokenizer(transformer_tokenizer=tokenizer, model_name=model_name, max_seq_len=max_seq_len, sentence_pair=sentence_pair)"
   ]
  },
  {
   "cell_type": "markdown",
   "id": "80eebb5f",
   "metadata": {
    "id": "IwNZ9OJ-_7W-",
    "papermill": {
     "duration": 0.035637,
     "end_time": "2022-02-20T17:41:41.947941",
     "exception": false,
     "start_time": "2022-02-20T17:41:41.912304",
     "status": "completed"
    },
    "tags": []
   },
   "source": [
    "Generamos una clase que hereda de `Tokenizer` de Fastai para decodificar los textos."
   ]
  },
  {
   "cell_type": "code",
   "execution_count": null,
   "id": "029770a0",
   "metadata": {
    "execution": {
     "iopub.execute_input": "2022-02-20T17:41:42.023955Z",
     "iopub.status.busy": "2022-02-20T17:41:42.023211Z",
     "iopub.status.idle": "2022-02-20T17:41:42.025687Z",
     "shell.execute_reply": "2022-02-20T17:41:42.025239Z",
     "shell.execute_reply.started": "2022-02-20T17:22:52.925541Z"
    },
    "id": "wUVzWxaNGB-A",
    "papermill": {
     "duration": 0.042752,
     "end_time": "2022-02-20T17:41:42.025792",
     "exception": false,
     "start_time": "2022-02-20T17:41:41.983040",
     "status": "completed"
    },
    "tags": []
   },
   "outputs": [],
   "source": [
    "class MLMTokenizer(Tokenizer):\n",
    "    def __init__(self, tokenizer, rules=None, counter=None, lengths=None, mode=None, sep=' ', **kwargs): \n",
    "        super().__init__(tokenizer, rules, counter, lengths, mode, sep)\n",
    "    def _detokenize1(self, o):return self.tok.de_tokenize(o)\n",
    "    def decodes(self, o): return TitledStr(str(self._detokenize1(o)))"
   ]
  },
  {
   "cell_type": "markdown",
   "id": "8c300937",
   "metadata": {
    "id": "SAAiKzTdAEub",
    "papermill": {
     "duration": 0.034571,
     "end_time": "2022-02-20T17:41:42.095106",
     "exception": false,
     "start_time": "2022-02-20T17:41:42.060535",
     "status": "completed"
    },
    "tags": []
   },
   "source": [
    "Tokenizamos el texto usando las clases anteriores. Añadimos la regla `fix_html` para eliminar etiquetas HTML que hayan podido quedar en el texto."
   ]
  },
  {
   "cell_type": "code",
   "execution_count": null,
   "id": "bb0a8239",
   "metadata": {
    "execution": {
     "iopub.execute_input": "2022-02-20T17:41:42.169345Z",
     "iopub.status.busy": "2022-02-20T17:41:42.168729Z",
     "iopub.status.idle": "2022-02-20T17:41:42.171261Z",
     "shell.execute_reply": "2022-02-20T17:41:42.171693Z",
     "shell.execute_reply.started": "2022-02-20T17:22:54.726332Z"
    },
    "id": "PSs3Cm-43Vyx",
    "outputId": "e1a4b6fc-6d92-406c-a7dd-0f2f4ea1614d",
    "papermill": {
     "duration": 0.042306,
     "end_time": "2022-02-20T17:41:42.171816",
     "exception": false,
     "start_time": "2022-02-20T17:41:42.129510",
     "status": "completed"
    },
    "tags": []
   },
   "outputs": [],
   "source": [
    "fastai_tokenizer = MLMTokenizer.from_df(text_cols='text', tok=fasthugstok, \n",
    "                                     rules=[fix_html])\n",
    "fastai_tokenizer.rules"
   ]
  },
  {
   "cell_type": "markdown",
   "id": "1a4ab0bc",
   "metadata": {
    "id": "3QFwg-_EAbpi",
    "papermill": {
     "duration": 0.034935,
     "end_time": "2022-02-20T17:41:42.241609",
     "exception": false,
     "start_time": "2022-02-20T17:41:42.206674",
     "status": "completed"
    },
    "tags": []
   },
   "source": [
    "Añadimos los tokens especiales."
   ]
  },
  {
   "cell_type": "code",
   "execution_count": null,
   "id": "1fe52f8d",
   "metadata": {
    "execution": {
     "iopub.execute_input": "2022-02-20T17:41:42.317606Z",
     "iopub.status.busy": "2022-02-20T17:41:42.316864Z",
     "iopub.status.idle": "2022-02-20T17:41:42.318809Z",
     "shell.execute_reply": "2022-02-20T17:41:42.319174Z",
     "shell.execute_reply.started": "2022-02-20T17:22:58.805696Z"
    },
    "id": "zuzsTVlHHF0k",
    "papermill": {
     "duration": 0.042917,
     "end_time": "2022-02-20T17:41:42.319332",
     "exception": false,
     "start_time": "2022-02-20T17:41:42.276415",
     "status": "completed"
    },
    "tags": []
   },
   "outputs": [],
   "source": [
    "class AddSpecialTokens(Transform):\n",
    "    \"Add special token_ids to the numericalized tokens for Sequence Classification\"\n",
    "    def __init__(self, tokenizer):\n",
    "        self.tok=tokenizer\n",
    "    def encodes(self, o):\n",
    "        return(TensorText(self.tok.build_inputs_with_special_tokens(list(o))))"
   ]
  },
  {
   "cell_type": "markdown",
   "id": "09f2e37c",
   "metadata": {
    "id": "VFSUr3xCAsp1",
    "papermill": {
     "duration": 0.035331,
     "end_time": "2022-02-20T17:41:42.389580",
     "exception": false,
     "start_time": "2022-02-20T17:41:42.354249",
     "status": "completed"
    },
    "tags": []
   },
   "source": [
    "Funciones para crear el dataset para Fastai."
   ]
  },
  {
   "cell_type": "code",
   "execution_count": null,
   "id": "7d86e443",
   "metadata": {
    "execution": {
     "iopub.execute_input": "2022-02-20T17:41:42.474644Z",
     "iopub.status.busy": "2022-02-20T17:41:42.473620Z",
     "iopub.status.idle": "2022-02-20T17:41:42.475381Z",
     "shell.execute_reply": "2022-02-20T17:41:42.475903Z",
     "shell.execute_reply.started": "2022-02-20T17:23:00.472879Z"
    },
    "id": "mfpU0hUWAurm",
    "papermill": {
     "duration": 0.051553,
     "end_time": "2022-02-20T17:41:42.476034",
     "exception": false,
     "start_time": "2022-02-20T17:41:42.424481",
     "status": "completed"
    },
    "tags": []
   },
   "outputs": [],
   "source": [
    "class MLMTokensLabels(Transform):\n",
    "    '''\n",
    "        MLM task\n",
    "        - Select subset of input token ids, given by `mlm_probability`\n",
    "        - Mask a subset of these, `mask_token_prob`\n",
    "        - Replace half of the first subset with random tokens\n",
    "        - This code most comes from the `mask_tokens` function here https://github.com/huggingface/transformers/blob/a21d4fa410dc3b4c62f93aa0e6bbe4b75a101ee9/examples/run_language_modeling.py#L66\n",
    "        Returns: input ids and labels\n",
    "    '''\n",
    "    def __init__(self, tokenizer=None, mlm_probability=0.15, mask_token_prob=0.8):\n",
    "        self.tok, self.mlm_probability, self.mask_token_prob=tokenizer, mlm_probability, mask_token_prob\n",
    "    \n",
    "    def _gen_probability_matrix(self, labels):\n",
    "        # We sample a few tokens in each sequence for masked-LM training (with probability mlm_probability, defaults to 0.15 in Bert/RoBERTa)\n",
    "        probability_matrix = torch.full(labels.shape, self.mlm_probability) \n",
    "        special_tokens_mask = self.tok.get_special_tokens_mask(labels.tolist(), already_has_special_tokens=True)\n",
    "        probability_matrix.masked_fill_(torch.tensor(special_tokens_mask, dtype=torch.bool), value=0.0)\n",
    "        if self.tok._pad_token is not None:\n",
    "            padding_mask = labels.eq(self.tok.pad_token_id)\n",
    "            probability_matrix.masked_fill_(padding_mask, value=0.0)\n",
    "        return probability_matrix\n",
    "    \n",
    "    def _replace_with_mask(self, inputs, labels, masked_indices):\n",
    "        # for `mask_token_prob`% of the time, we replace masked input tokens with tokenizer.mask_token ([MASK])\n",
    "        indices_replaced = torch.bernoulli(torch.full(labels.shape, self.mask_token_prob)).bool() & masked_indices\n",
    "        inputs[indices_replaced] = self.tok.convert_tokens_to_ids(self.tok.mask_token)\n",
    "        return inputs, indices_replaced\n",
    "    \n",
    "    def _replace_with_other(self, inputs, labels, masked_indices, indices_replaced):\n",
    "        # 1-`mask_token_prob`)/210% of the time, we replace masked input tokens with random word\n",
    "        indices_random = torch.bernoulli(torch.full(labels.shape, 0.5)).bool() & masked_indices & ~indices_replaced\n",
    "        random_words = torch.randint(len(self.tok), labels.shape, dtype=torch.long)\n",
    "        inputs[indices_random] = random_words[indices_random]\n",
    "        return inputs\n",
    "    \n",
    "    def encodes(self, inputs):\n",
    "        if self.tok.mask_token is None:\n",
    "            raise ValueError(\"This tokenizer does not have a mask token which is necessary for masked language modeling.\")\n",
    "        labels = inputs.clone()\n",
    "        \n",
    "        # Get probability of whether a token will be masked\n",
    "        probability_matrix = self._gen_probability_matrix(labels)\n",
    "        \n",
    "        # Create random mask indices according to probability matrix\n",
    "        masked_indices = torch.bernoulli(probability_matrix).bool()\n",
    "        \n",
    "        # Mask the labels for indices that are NOT masked, we only compute loss on masked tokens\n",
    "        labels[~masked_indices] = -100  \n",
    "        \n",
    "        # Randomly replace with mask token\n",
    "        inputs, indices_replaced = self._replace_with_mask(inputs, labels, masked_indices)\n",
    "        \n",
    "        # Randomly replace with mask token\n",
    "        inputs = self._replace_with_other(inputs, labels, masked_indices, indices_replaced)\n",
    "        # The rest of the time (10% of the time) we keep the masked input tokens unchanged\n",
    "        return (inputs,labels)"
   ]
  },
  {
   "cell_type": "code",
   "execution_count": null,
   "id": "13793ea4",
   "metadata": {
    "execution": {
     "iopub.execute_input": "2022-02-20T17:41:42.552482Z",
     "iopub.status.busy": "2022-02-20T17:41:42.551655Z",
     "iopub.status.idle": "2022-02-20T17:41:42.553565Z",
     "shell.execute_reply": "2022-02-20T17:41:42.554071Z",
     "shell.execute_reply.started": "2022-02-20T17:23:13.855923Z"
    },
    "id": "bM1ElbIC31e0",
    "papermill": {
     "duration": 0.043279,
     "end_time": "2022-02-20T17:41:42.554210",
     "exception": false,
     "start_time": "2022-02-20T17:41:42.510931",
     "status": "completed"
    },
    "tags": []
   },
   "outputs": [],
   "source": [
    "@Numericalize\n",
    "def decodes(self,o):\n",
    "    'Add the ability to parse masks for the loss function, set as `-100`'\n",
    "    if isinstance(o, tuple): o=o[0]\n",
    "    tmp_vocab=self.vocab.copy()\n",
    "    tmp_vocab.append('<loss_mask>')\n",
    "    o=[-1 if o_ == -100 else o_ for o_ in o]\n",
    "    return L(tmp_vocab[o_] for o_ in o if tmp_vocab[o_] != PAD)"
   ]
  },
  {
   "cell_type": "code",
   "execution_count": null,
   "id": "d7967705",
   "metadata": {
    "execution": {
     "iopub.execute_input": "2022-02-20T17:41:42.630234Z",
     "iopub.status.busy": "2022-02-20T17:41:42.629500Z",
     "iopub.status.idle": "2022-02-20T17:41:42.631830Z",
     "shell.execute_reply": "2022-02-20T17:41:42.631375Z",
     "shell.execute_reply.started": "2022-02-20T17:23:15.875298Z"
    },
    "id": "kzYow_doHOU6",
    "papermill": {
     "duration": 0.042845,
     "end_time": "2022-02-20T17:41:42.631933",
     "exception": false,
     "start_time": "2022-02-20T17:41:42.589088",
     "status": "completed"
    },
    "tags": []
   },
   "outputs": [],
   "source": [
    "@delegates(Datasets)\n",
    "class Datasets(Datasets):\n",
    "    \"Doesn't create a tuple in __getitem__ as x is already a tuple\"\n",
    "    def __init__(self, items=None, tfms=None, tls=None, n_inp=None, dl_type=None, **kwargs):\n",
    "        super().__init__(items=items, tfms=tfms, tls=tls, n_inp=n_inp, dl_type=dl_type, **kwargs)\n",
    "\n",
    "    def __getitem__(self, it):\n",
    "        # same as Datasets.__getitem__ but not wrapped in a tuple\n",
    "        res = [tl[it] for tl in self.tls]\n",
    "        return res[0] if is_indexer(it) else list(zip(*res))"
   ]
  },
  {
   "cell_type": "markdown",
   "id": "9581b32d",
   "metadata": {
    "id": "ylomAsNYA29W",
    "papermill": {
     "duration": 0.034995,
     "end_time": "2022-02-20T17:41:42.702238",
     "exception": false,
     "start_time": "2022-02-20T17:41:42.667243",
     "status": "completed"
    },
    "tags": []
   },
   "source": [
    "Creamos el dataset."
   ]
  },
  {
   "cell_type": "code",
   "execution_count": null,
   "id": "1ddb9504",
   "metadata": {
    "execution": {
     "iopub.execute_input": "2022-02-20T17:41:42.782147Z",
     "iopub.status.busy": "2022-02-20T17:41:42.781627Z",
     "iopub.status.idle": "2022-02-20T17:41:54.845319Z",
     "shell.execute_reply": "2022-02-20T17:41:54.845754Z",
     "shell.execute_reply.started": "2022-02-20T17:23:19.771314Z"
    },
    "id": "Y5mdPqDAHQhw",
    "outputId": "fac44d8c-ca54-4d52-e382-d7a438917edd",
    "papermill": {
     "duration": 12.108645,
     "end_time": "2022-02-20T17:41:54.845921",
     "exception": false,
     "start_time": "2022-02-20T17:41:42.737276",
     "status": "completed"
    },
    "tags": []
   },
   "outputs": [],
   "source": [
    "splitter = ColSplitter()(df)\n",
    "tfms=[attrgetter(\"text\"), fastai_tokenizer, Numericalize(vocab=tokenizer_vocab_ls), \n",
    "      AddSpecialTokens(tokenizer), MLMTokensLabels(tokenizer)]\n",
    "\n",
    "dsets = Datasets(df, splits=splitter, tfms=[tfms], dl_type=SortedDL)\n",
    "\n",
    "dsets[0][0][:20], dsets[0][1][:20]"
   ]
  },
  {
   "cell_type": "markdown",
   "id": "7d168739",
   "metadata": {
    "id": "9-UP7jbNCp7X",
    "papermill": {
     "duration": 0.035883,
     "end_time": "2022-02-20T17:41:54.917988",
     "exception": false,
     "start_time": "2022-02-20T17:41:54.882105",
     "status": "completed"
    },
    "tags": []
   },
   "source": [
    "Para el padding, comprobamos la configuración `tokenizer.padding_side` y lo ajustamos dependiendo si es a la derecha o a la izquierda."
   ]
  },
  {
   "cell_type": "code",
   "execution_count": null,
   "id": "9de460e3",
   "metadata": {
    "execution": {
     "iopub.execute_input": "2022-02-20T17:41:55.002876Z",
     "iopub.status.busy": "2022-02-20T17:41:55.002204Z",
     "iopub.status.idle": "2022-02-20T17:41:55.005558Z",
     "shell.execute_reply": "2022-02-20T17:41:55.005099Z",
     "shell.execute_reply.started": "2022-02-20T17:23:40.886542Z"
    },
    "id": "uZbikMBSPVwq",
    "papermill": {
     "duration": 0.051817,
     "end_time": "2022-02-20T17:41:55.005669",
     "exception": false,
     "start_time": "2022-02-20T17:41:54.953852",
     "status": "completed"
    },
    "tags": []
   },
   "outputs": [],
   "source": [
    "def pad_mlm_input(samples, pad_idx=1, pad_fields=[0,1], pad_first=False, max_seq_len=None, backwards=False):\n",
    "    \"Function that collect `samples` and adds padding, modified `max_len_l` in fastai's `pad_input`\"\n",
    "    pad_fields = L(pad_fields)\n",
    "    max_len_l = pad_fields.map(lambda f: max_seq_len)\n",
    "    if backwards: pad_first = not pad_first\n",
    "    def _f(field_idx, x):\n",
    "        if isinstance(x, tuple): x=(x[0])\n",
    "        if field_idx not in pad_fields: return x\n",
    "        idx = pad_fields.items.index(field_idx)\n",
    "        sl = slice(-len(x), sys.maxsize) if pad_first else slice(0, len(x))\n",
    "        pad =  x.new_zeros(max_len_l[idx]-x.shape[0])+pad_idx\n",
    "        x1 = torch.cat([pad, x] if pad_first else [x, pad])\n",
    "        if backwards: x1 = x1.flip(0)\n",
    "        return retain_type(x1, x)\n",
    "    return [tuple(map(lambda idxx: _f(*idxx), enumerate(s))) for s in samples]\n",
    "\n",
    "def transformer_mlm_padding(tokenizer=None, max_seq_len=None, sentence_pair=False): \n",
    "    'Uses `pad_fields=[0,1]` to pad both input and label'\n",
    "    if tokenizer.padding_side == 'right': pad_first=False\n",
    "    else: pad_first=True\n",
    "    max_seq_len = ifnone(max_seq_len, tokenizer.model_max_length) \n",
    "    return partial(pad_mlm_input, pad_fields=[0,1], pad_first=pad_first, \n",
    "                   pad_idx=tokenizer.pad_token_id, max_seq_len=max_seq_len)"
   ]
  },
  {
   "cell_type": "markdown",
   "id": "fdbe92c6",
   "metadata": {
    "id": "cK5y4seuC3KH",
    "papermill": {
     "duration": 0.035722,
     "end_time": "2022-02-20T17:41:55.077391",
     "exception": false,
     "start_time": "2022-02-20T17:41:55.041669",
     "status": "completed"
    },
    "tags": []
   },
   "source": [
    "Creamos el dataloaders con la configuración adecuada."
   ]
  },
  {
   "cell_type": "code",
   "execution_count": null,
   "id": "7c60ac99",
   "metadata": {
    "execution": {
     "iopub.execute_input": "2022-02-20T17:41:55.158496Z",
     "iopub.status.busy": "2022-02-20T17:41:55.157710Z",
     "iopub.status.idle": "2022-02-20T17:42:39.749695Z",
     "shell.execute_reply": "2022-02-20T17:42:39.748747Z",
     "shell.execute_reply.started": "2022-02-20T17:23:44.201314Z"
    },
    "id": "E4VStfhhS2-x",
    "papermill": {
     "duration": 44.636837,
     "end_time": "2022-02-20T17:42:39.749853",
     "exception": false,
     "start_time": "2022-02-20T17:41:55.113016",
     "status": "completed"
    },
    "tags": []
   },
   "outputs": [],
   "source": [
    "padding = transformer_mlm_padding(tokenizer, max_seq_len=512)\n",
    "\n",
    "bs = 4\n",
    "dls = dsets.dataloaders(bs=bs, before_batch=[padding])"
   ]
  },
  {
   "cell_type": "markdown",
   "id": "4c934226",
   "metadata": {
    "id": "21T_akZaDT6U",
    "papermill": {
     "duration": 0.035882,
     "end_time": "2022-02-20T17:42:39.822456",
     "exception": false,
     "start_time": "2022-02-20T17:42:39.786574",
     "status": "completed"
    },
    "tags": []
   },
   "source": [
    "Comprobamos que la mayoría de los tokens en el target (`text_`) están ocultos. Solo queremos calcular la función de pérdida en el 15% de los tokens del texto (`text`) que están ocultos."
   ]
  },
  {
   "cell_type": "code",
   "execution_count": null,
   "id": "1bdb1b5a",
   "metadata": {
    "execution": {
     "iopub.execute_input": "2022-02-20T17:42:39.902047Z",
     "iopub.status.busy": "2022-02-20T17:42:39.898599Z",
     "iopub.status.idle": "2022-02-20T17:42:39.940140Z",
     "shell.execute_reply": "2022-02-20T17:42:39.939711Z",
     "shell.execute_reply.started": "2022-02-20T17:25:06.502832Z"
    },
    "id": "eaywpK3_TNCC",
    "outputId": "89209e62-746a-4184-9459-018fbd9a752e",
    "papermill": {
     "duration": 0.081703,
     "end_time": "2022-02-20T17:42:39.940256",
     "exception": false,
     "start_time": "2022-02-20T17:42:39.858553",
     "status": "completed"
    },
    "tags": []
   },
   "outputs": [],
   "source": [
    "b = dls.one_batch()\n",
    "b[0].size(), b[1].size()"
   ]
  },
  {
   "cell_type": "code",
   "execution_count": null,
   "id": "62af5a81",
   "metadata": {
    "execution": {
     "iopub.execute_input": "2022-02-20T17:42:40.020426Z",
     "iopub.status.busy": "2022-02-20T17:42:40.019734Z",
     "iopub.status.idle": "2022-02-20T17:42:40.206613Z",
     "shell.execute_reply": "2022-02-20T17:42:40.205916Z",
     "shell.execute_reply.started": "2022-02-20T17:25:09.043104Z"
    },
    "id": "8ahcBlDdTPil",
    "outputId": "db263ecf-23c3-4878-9056-1eaff0e14aaf",
    "papermill": {
     "duration": 0.23012,
     "end_time": "2022-02-20T17:42:40.206740",
     "exception": false,
     "start_time": "2022-02-20T17:42:39.976620",
     "status": "completed"
    },
    "tags": []
   },
   "outputs": [],
   "source": [
    "dls.show_batch()"
   ]
  },
  {
   "cell_type": "markdown",
   "id": "e576ca8b",
   "metadata": {
    "id": "LZSeKGE-EFJY",
    "papermill": {
     "duration": 0.03694,
     "end_time": "2022-02-20T17:42:40.281778",
     "exception": false,
     "start_time": "2022-02-20T17:42:40.244838",
     "status": "completed"
    },
    "tags": []
   },
   "source": [
    "## Modelo"
   ]
  },
  {
   "cell_type": "code",
   "execution_count": null,
   "id": "505616c2",
   "metadata": {
    "execution": {
     "iopub.execute_input": "2022-02-20T17:42:40.405203Z",
     "iopub.status.busy": "2022-02-20T17:42:40.404416Z",
     "iopub.status.idle": "2022-02-20T17:42:40.412911Z",
     "shell.execute_reply": "2022-02-20T17:42:40.413501Z",
     "shell.execute_reply.started": "2022-02-20T17:25:18.109262Z"
    },
    "id": "JKu3qc85TXIB",
    "papermill": {
     "duration": 0.086951,
     "end_time": "2022-02-20T17:42:40.413719",
     "exception": false,
     "start_time": "2022-02-20T17:42:40.326768",
     "status": "completed"
    },
    "tags": []
   },
   "outputs": [],
   "source": [
    "class LMModel(nn.Module):\n",
    "    def __init__(self, lm_model_class=None, tokenizer=None, model_name=None, config_dict=None, pretrained=False):\n",
    "        super().__init__()\n",
    "        self.tok=tokenizer\n",
    "        if pretrained: self.model = lm_model_class.from_pretrained(model_name)\n",
    "        else: self.model = lm_model_class.from_config(config_dict)\n",
    "        self.model = self.model.module if hasattr(self.model, \"module\") else self.model\n",
    "        self.model.resize_token_embeddings(len(tokenizer))\n",
    "            \n",
    "    def forward(self, input_ids):\n",
    "        attention_mask =  (input_ids!=self.tok.pad_token_id).type(input_ids.type())\n",
    "        return self.model(input_ids, attention_mask=attention_mask)[0]"
   ]
  },
  {
   "cell_type": "markdown",
   "id": "cf51360a",
   "metadata": {
    "id": "ILHYIvCkEJYo",
    "papermill": {
     "duration": 0.066046,
     "end_time": "2022-02-20T17:42:40.553545",
     "exception": false,
     "start_time": "2022-02-20T17:42:40.487499",
     "status": "completed"
    },
    "tags": []
   },
   "source": [
    "El modelo preentrenado se carga con `pretrained=True`."
   ]
  },
  {
   "cell_type": "code",
   "execution_count": null,
   "id": "e086b7a5",
   "metadata": {
    "execution": {
     "iopub.execute_input": "2022-02-20T17:42:40.696895Z",
     "iopub.status.busy": "2022-02-20T17:42:40.696053Z",
     "iopub.status.idle": "2022-02-20T17:42:58.470841Z",
     "shell.execute_reply": "2022-02-20T17:42:58.470309Z",
     "shell.execute_reply.started": "2022-02-20T17:25:24.991600Z"
    },
    "id": "-5XupW10TZAU",
    "papermill": {
     "duration": 17.851502,
     "end_time": "2022-02-20T17:42:58.470983",
     "exception": false,
     "start_time": "2022-02-20T17:42:40.619481",
     "status": "completed"
    },
    "tags": []
   },
   "outputs": [],
   "source": [
    "model = LMModel(lm_model_class=lm_model_class, tokenizer=tokenizer, model_name=model_name, \n",
    "                  config_dict=config_dict, pretrained=True)"
   ]
  },
  {
   "cell_type": "markdown",
   "id": "5f55af24",
   "metadata": {
    "id": "4B9MLgT7EZMn",
    "papermill": {
     "duration": 0.03842,
     "end_time": "2022-02-20T17:42:58.548374",
     "exception": false,
     "start_time": "2022-02-20T17:42:58.509954",
     "status": "completed"
    },
    "tags": []
   },
   "source": [
    "## Entrenamiento"
   ]
  },
  {
   "cell_type": "code",
   "execution_count": null,
   "id": "0f98836f",
   "metadata": {
    "execution": {
     "iopub.execute_input": "2022-02-20T17:42:58.630691Z",
     "iopub.status.busy": "2022-02-20T17:42:58.630014Z",
     "iopub.status.idle": "2022-02-20T17:42:58.632249Z",
     "shell.execute_reply": "2022-02-20T17:42:58.632686Z",
     "shell.execute_reply.started": "2022-02-20T17:25:38.716473Z"
    },
    "id": "msPz3U8BTaE4",
    "papermill": {
     "duration": 0.046203,
     "end_time": "2022-02-20T17:42:58.632819",
     "exception": false,
     "start_time": "2022-02-20T17:42:58.586616",
     "status": "completed"
    },
    "tags": []
   },
   "outputs": [],
   "source": [
    "opt_func = partial(Adam, decouple_wd=True)\n",
    "\n",
    "loss = CrossEntropyLossFlat()\n",
    "\n",
    "learn = Learner(dls, model, opt_func=opt_func,\n",
    "                loss_func=loss, metrics=[accuracy, Perplexity()]).to_fp16()"
   ]
  },
  {
   "cell_type": "code",
   "execution_count": null,
   "id": "3218bbb5",
   "metadata": {
    "execution": {
     "iopub.execute_input": "2022-02-20T17:42:58.733560Z",
     "iopub.status.busy": "2022-02-20T17:42:58.732469Z",
     "iopub.status.idle": "2022-02-20T17:43:34.121217Z",
     "shell.execute_reply": "2022-02-20T17:43:34.121626Z",
     "shell.execute_reply.started": "2022-02-20T17:25:50.495857Z"
    },
    "id": "BuG35DEbTd7R",
    "outputId": "a4a77a47-d278-40b0-d8e8-7f46d3f41284",
    "papermill": {
     "duration": 35.450474,
     "end_time": "2022-02-20T17:43:34.121795",
     "exception": false,
     "start_time": "2022-02-20T17:42:58.671321",
     "status": "completed"
    },
    "tags": []
   },
   "outputs": [],
   "source": [
    "valley = learn.lr_find()"
   ]
  },
  {
   "cell_type": "code",
   "execution_count": null,
   "id": "fc9a2202",
   "metadata": {
    "execution": {
     "iopub.execute_input": "2022-02-20T17:43:34.219568Z",
     "iopub.status.busy": "2022-02-20T17:43:34.218690Z",
     "iopub.status.idle": "2022-02-20T17:43:34.787245Z",
     "shell.execute_reply": "2022-02-20T17:43:34.787904Z",
     "shell.execute_reply.started": "2022-02-20T17:26:47.184625Z"
    },
    "id": "w3nV5NPGTf-I",
    "outputId": "34c1724e-25da-4c83-fa18-66817a64735b",
    "papermill": {
     "duration": 0.626832,
     "end_time": "2022-02-20T17:43:34.788059",
     "exception": false,
     "start_time": "2022-02-20T17:43:34.161227",
     "status": "completed"
    },
    "tags": []
   },
   "outputs": [],
   "source": [
    "learn.recorder.plot_lr_find()"
   ]
  },
  {
   "cell_type": "code",
   "execution_count": null,
   "id": "dc582a26",
   "metadata": {
    "execution": {
     "iopub.execute_input": "2022-02-20T17:43:34.874157Z",
     "iopub.status.busy": "2022-02-20T17:43:34.873502Z",
     "iopub.status.idle": "2022-02-20T19:23:25.245025Z",
     "shell.execute_reply": "2022-02-20T19:23:25.244401Z",
     "shell.execute_reply.started": "2022-02-20T17:28:32.150849Z"
    },
    "id": "pQ5Tsp77Tht_",
    "outputId": "93978c54-a3a3-499f-eaea-b2878b79bcce",
    "papermill": {
     "duration": 5990.416286,
     "end_time": "2022-02-20T19:23:25.245169",
     "exception": false,
     "start_time": "2022-02-20T17:43:34.828883",
     "status": "completed"
    },
    "tags": []
   },
   "outputs": [],
   "source": [
    "learn.fit_one_cycle(10, valley.valley)"
   ]
  },
  {
   "cell_type": "code",
   "execution_count": null,
   "id": "a6c8c38f",
   "metadata": {
    "execution": {
     "iopub.execute_input": "2022-02-20T19:23:25.334835Z",
     "iopub.status.busy": "2022-02-20T19:23:25.334295Z",
     "iopub.status.idle": "2022-02-20T19:23:27.410555Z",
     "shell.execute_reply": "2022-02-20T19:23:27.411256Z",
     "shell.execute_reply.started": "2022-02-20T17:40:46.009390Z"
    },
    "id": "zjk7wH0DTkLQ",
    "outputId": "2c4a744c-522c-46c7-e045-2238042db9c3",
    "papermill": {
     "duration": 2.122108,
     "end_time": "2022-02-20T19:23:27.411510",
     "exception": false,
     "start_time": "2022-02-20T19:23:25.289402",
     "status": "completed"
    },
    "tags": []
   },
   "outputs": [],
   "source": [
    "learn.save('beto_lm_pretrained_10ep')"
   ]
  }
 ],
 "metadata": {
  "kernelspec": {
   "display_name": "Python 3",
   "language": "python",
   "name": "python3"
  },
  "language_info": {
   "codemirror_mode": {
    "name": "ipython",
    "version": 3
   },
   "file_extension": ".py",
   "mimetype": "text/x-python",
   "name": "python",
   "nbconvert_exporter": "python",
   "pygments_lexer": "ipython3",
   "version": "3.7.12"
  },
  "papermill": {
   "default_parameters": {},
   "duration": 6140.686398,
   "end_time": "2022-02-20T19:23:33.203837",
   "environment_variables": {},
   "exception": null,
   "input_path": "__notebook__.ipynb",
   "output_path": "__notebook__.ipynb",
   "parameters": {},
   "start_time": "2022-02-20T17:41:12.517439",
   "version": "2.3.3"
  },
  "widgets": {
   "application/vnd.jupyter.widget-state+json": {
    "state": {
     "01a64b1a6f90489aa374dc971dce292d": {
      "model_module": "@jupyter-widgets/base",
      "model_module_version": "1.2.0",
      "model_name": "LayoutModel",
      "state": {
       "_model_module": "@jupyter-widgets/base",
       "_model_module_version": "1.2.0",
       "_model_name": "LayoutModel",
       "_view_count": null,
       "_view_module": "@jupyter-widgets/base",
       "_view_module_version": "1.2.0",
       "_view_name": "LayoutView",
       "align_content": null,
       "align_items": null,
       "align_self": null,
       "border": null,
       "bottom": null,
       "display": null,
       "flex": null,
       "flex_flow": null,
       "grid_area": null,
       "grid_auto_columns": null,
       "grid_auto_flow": null,
       "grid_auto_rows": null,
       "grid_column": null,
       "grid_gap": null,
       "grid_row": null,
       "grid_template_areas": null,
       "grid_template_columns": null,
       "grid_template_rows": null,
       "height": null,
       "justify_content": null,
       "justify_items": null,
       "left": null,
       "margin": null,
       "max_height": null,
       "max_width": null,
       "min_height": null,
       "min_width": null,
       "object_fit": null,
       "object_position": null,
       "order": null,
       "overflow": null,
       "overflow_x": null,
       "overflow_y": null,
       "padding": null,
       "right": null,
       "top": null,
       "visibility": null,
       "width": null
      }
     },
     "041c4d8623e443a69ccf9cfb74871f00": {
      "model_module": "@jupyter-widgets/base",
      "model_module_version": "1.2.0",
      "model_name": "LayoutModel",
      "state": {
       "_model_module": "@jupyter-widgets/base",
       "_model_module_version": "1.2.0",
       "_model_name": "LayoutModel",
       "_view_count": null,
       "_view_module": "@jupyter-widgets/base",
       "_view_module_version": "1.2.0",
       "_view_name": "LayoutView",
       "align_content": null,
       "align_items": null,
       "align_self": null,
       "border": null,
       "bottom": null,
       "display": null,
       "flex": null,
       "flex_flow": null,
       "grid_area": null,
       "grid_auto_columns": null,
       "grid_auto_flow": null,
       "grid_auto_rows": null,
       "grid_column": null,
       "grid_gap": null,
       "grid_row": null,
       "grid_template_areas": null,
       "grid_template_columns": null,
       "grid_template_rows": null,
       "height": null,
       "justify_content": null,
       "justify_items": null,
       "left": null,
       "margin": null,
       "max_height": null,
       "max_width": null,
       "min_height": null,
       "min_width": null,
       "object_fit": null,
       "object_position": null,
       "order": null,
       "overflow": null,
       "overflow_x": null,
       "overflow_y": null,
       "padding": null,
       "right": null,
       "top": null,
       "visibility": null,
       "width": null
      }
     },
     "05052b6ab48a47d79f7c3c811592d811": {
      "model_module": "@jupyter-widgets/controls",
      "model_module_version": "1.5.0",
      "model_name": "HBoxModel",
      "state": {
       "_dom_classes": [],
       "_model_module": "@jupyter-widgets/controls",
       "_model_module_version": "1.5.0",
       "_model_name": "HBoxModel",
       "_view_count": null,
       "_view_module": "@jupyter-widgets/controls",
       "_view_module_version": "1.5.0",
       "_view_name": "HBoxView",
       "box_style": "",
       "children": [
        "IPY_MODEL_6a29297cd2df405bbe1e5e68a1ab6fa9",
        "IPY_MODEL_13b1b72733314dbcba60c70ec221f3f8",
        "IPY_MODEL_ab9685df17644db0bc15d0a230bbdce9"
       ],
       "layout": "IPY_MODEL_57ef08a105ae467f928cda028c2becf6"
      }
     },
     "09b0149abd1f4a71b9333a0ae7a9e400": {
      "model_module": "@jupyter-widgets/controls",
      "model_module_version": "1.5.0",
      "model_name": "ProgressStyleModel",
      "state": {
       "_model_module": "@jupyter-widgets/controls",
       "_model_module_version": "1.5.0",
       "_model_name": "ProgressStyleModel",
       "_view_count": null,
       "_view_module": "@jupyter-widgets/base",
       "_view_module_version": "1.2.0",
       "_view_name": "StyleView",
       "bar_color": null,
       "description_width": ""
      }
     },
     "0e1841c74c014c47a500d284c3eb36f1": {
      "model_module": "@jupyter-widgets/controls",
      "model_module_version": "1.5.0",
      "model_name": "FloatProgressModel",
      "state": {
       "_dom_classes": [],
       "_model_module": "@jupyter-widgets/controls",
       "_model_module_version": "1.5.0",
       "_model_name": "FloatProgressModel",
       "_view_count": null,
       "_view_module": "@jupyter-widgets/controls",
       "_view_module_version": "1.5.0",
       "_view_name": "ProgressView",
       "bar_style": "success",
       "description": "",
       "description_tooltip": null,
       "layout": "IPY_MODEL_f41a38b8f9e0489f96dabff16ca4f375",
       "max": 439621341,
       "min": 0,
       "orientation": "horizontal",
       "style": "IPY_MODEL_09b0149abd1f4a71b9333a0ae7a9e400",
       "value": 439621341
      }
     },
     "13b1b72733314dbcba60c70ec221f3f8": {
      "model_module": "@jupyter-widgets/controls",
      "model_module_version": "1.5.0",
      "model_name": "FloatProgressModel",
      "state": {
       "_dom_classes": [],
       "_model_module": "@jupyter-widgets/controls",
       "_model_module_version": "1.5.0",
       "_model_name": "FloatProgressModel",
       "_view_count": null,
       "_view_module": "@jupyter-widgets/controls",
       "_view_module_version": "1.5.0",
       "_view_name": "ProgressView",
       "bar_style": "success",
       "description": "",
       "description_tooltip": null,
       "layout": "IPY_MODEL_34ac9e00da2e4af28dc143340f15363c",
       "max": 247723,
       "min": 0,
       "orientation": "horizontal",
       "style": "IPY_MODEL_ee41103c62f04ad39447845a03f27d09",
       "value": 247723
      }
     },
     "18eee088092440ae9a2d8e3204b34936": {
      "model_module": "@jupyter-widgets/controls",
      "model_module_version": "1.5.0",
      "model_name": "DescriptionStyleModel",
      "state": {
       "_model_module": "@jupyter-widgets/controls",
       "_model_module_version": "1.5.0",
       "_model_name": "DescriptionStyleModel",
       "_view_count": null,
       "_view_module": "@jupyter-widgets/base",
       "_view_module_version": "1.2.0",
       "_view_name": "StyleView",
       "description_width": ""
      }
     },
     "1905ca1c53b94b81bbca6cf6d61d6beb": {
      "model_module": "@jupyter-widgets/base",
      "model_module_version": "1.2.0",
      "model_name": "LayoutModel",
      "state": {
       "_model_module": "@jupyter-widgets/base",
       "_model_module_version": "1.2.0",
       "_model_name": "LayoutModel",
       "_view_count": null,
       "_view_module": "@jupyter-widgets/base",
       "_view_module_version": "1.2.0",
       "_view_name": "LayoutView",
       "align_content": null,
       "align_items": null,
       "align_self": null,
       "border": null,
       "bottom": null,
       "display": null,
       "flex": null,
       "flex_flow": null,
       "grid_area": null,
       "grid_auto_columns": null,
       "grid_auto_flow": null,
       "grid_auto_rows": null,
       "grid_column": null,
       "grid_gap": null,
       "grid_row": null,
       "grid_template_areas": null,
       "grid_template_columns": null,
       "grid_template_rows": null,
       "height": null,
       "justify_content": null,
       "justify_items": null,
       "left": null,
       "margin": null,
       "max_height": null,
       "max_width": null,
       "min_height": null,
       "min_width": null,
       "object_fit": null,
       "object_position": null,
       "order": null,
       "overflow": null,
       "overflow_x": null,
       "overflow_y": null,
       "padding": null,
       "right": null,
       "top": null,
       "visibility": null,
       "width": null
      }
     },
     "191c83ec44654083abd5f37aa4ce7844": {
      "model_module": "@jupyter-widgets/base",
      "model_module_version": "1.2.0",
      "model_name": "LayoutModel",
      "state": {
       "_model_module": "@jupyter-widgets/base",
       "_model_module_version": "1.2.0",
       "_model_name": "LayoutModel",
       "_view_count": null,
       "_view_module": "@jupyter-widgets/base",
       "_view_module_version": "1.2.0",
       "_view_name": "LayoutView",
       "align_content": null,
       "align_items": null,
       "align_self": null,
       "border": null,
       "bottom": null,
       "display": null,
       "flex": null,
       "flex_flow": null,
       "grid_area": null,
       "grid_auto_columns": null,
       "grid_auto_flow": null,
       "grid_auto_rows": null,
       "grid_column": null,
       "grid_gap": null,
       "grid_row": null,
       "grid_template_areas": null,
       "grid_template_columns": null,
       "grid_template_rows": null,
       "height": null,
       "justify_content": null,
       "justify_items": null,
       "left": null,
       "margin": null,
       "max_height": null,
       "max_width": null,
       "min_height": null,
       "min_width": null,
       "object_fit": null,
       "object_position": null,
       "order": null,
       "overflow": null,
       "overflow_x": null,
       "overflow_y": null,
       "padding": null,
       "right": null,
       "top": null,
       "visibility": null,
       "width": null
      }
     },
     "1cc581d3893d4d4d9578ff6b3a6b64ee": {
      "model_module": "@jupyter-widgets/controls",
      "model_module_version": "1.5.0",
      "model_name": "HTMLModel",
      "state": {
       "_dom_classes": [],
       "_model_module": "@jupyter-widgets/controls",
       "_model_module_version": "1.5.0",
       "_model_name": "HTMLModel",
       "_view_count": null,
       "_view_module": "@jupyter-widgets/controls",
       "_view_module_version": "1.5.0",
       "_view_name": "HTMLView",
       "description": "",
       "description_tooltip": null,
       "layout": "IPY_MODEL_96823bdc0a6140bfb96df68703a2b2ab",
       "placeholder": "​",
       "style": "IPY_MODEL_5d549e92cfa74c6b921cf6a7d4390c73",
       "value": "Downloading: 100%"
      }
     },
     "20836b2f3b674f758196e7785e0c401f": {
      "model_module": "@jupyter-widgets/controls",
      "model_module_version": "1.5.0",
      "model_name": "ProgressStyleModel",
      "state": {
       "_model_module": "@jupyter-widgets/controls",
       "_model_module_version": "1.5.0",
       "_model_name": "ProgressStyleModel",
       "_view_count": null,
       "_view_module": "@jupyter-widgets/base",
       "_view_module_version": "1.2.0",
       "_view_name": "StyleView",
       "bar_color": null,
       "description_width": ""
      }
     },
     "248f005f27764b0a99dc9af32eadc6d2": {
      "model_module": "@jupyter-widgets/controls",
      "model_module_version": "1.5.0",
      "model_name": "DescriptionStyleModel",
      "state": {
       "_model_module": "@jupyter-widgets/controls",
       "_model_module_version": "1.5.0",
       "_model_name": "DescriptionStyleModel",
       "_view_count": null,
       "_view_module": "@jupyter-widgets/base",
       "_view_module_version": "1.2.0",
       "_view_name": "StyleView",
       "description_width": ""
      }
     },
     "2847ba78e2bb48c9a7e4db353ceedfaf": {
      "model_module": "@jupyter-widgets/controls",
      "model_module_version": "1.5.0",
      "model_name": "HTMLModel",
      "state": {
       "_dom_classes": [],
       "_model_module": "@jupyter-widgets/controls",
       "_model_module_version": "1.5.0",
       "_model_name": "HTMLModel",
       "_view_count": null,
       "_view_module": "@jupyter-widgets/controls",
       "_view_module_version": "1.5.0",
       "_view_name": "HTMLView",
       "description": "",
       "description_tooltip": null,
       "layout": "IPY_MODEL_c84de78237c146b396409bcf0fa58e75",
       "placeholder": "​",
       "style": "IPY_MODEL_64507bc3a26e4d8d943059f1e694aac7",
       "value": " 134/134 [00:00&lt;00:00, 5.38kB/s]"
      }
     },
     "28f6a6c3829f4be7801dbe99c790dbab": {
      "model_module": "@jupyter-widgets/controls",
      "model_module_version": "1.5.0",
      "model_name": "HTMLModel",
      "state": {
       "_dom_classes": [],
       "_model_module": "@jupyter-widgets/controls",
       "_model_module_version": "1.5.0",
       "_model_name": "HTMLModel",
       "_view_count": null,
       "_view_module": "@jupyter-widgets/controls",
       "_view_module_version": "1.5.0",
       "_view_name": "HTMLView",
       "description": "",
       "description_tooltip": null,
       "layout": "IPY_MODEL_f1760151dc88444bad2a7914fb25619b",
       "placeholder": "​",
       "style": "IPY_MODEL_248f005f27764b0a99dc9af32eadc6d2",
       "value": "Downloading: 100%"
      }
     },
     "34ac9e00da2e4af28dc143340f15363c": {
      "model_module": "@jupyter-widgets/base",
      "model_module_version": "1.2.0",
      "model_name": "LayoutModel",
      "state": {
       "_model_module": "@jupyter-widgets/base",
       "_model_module_version": "1.2.0",
       "_model_name": "LayoutModel",
       "_view_count": null,
       "_view_module": "@jupyter-widgets/base",
       "_view_module_version": "1.2.0",
       "_view_name": "LayoutView",
       "align_content": null,
       "align_items": null,
       "align_self": null,
       "border": null,
       "bottom": null,
       "display": null,
       "flex": null,
       "flex_flow": null,
       "grid_area": null,
       "grid_auto_columns": null,
       "grid_auto_flow": null,
       "grid_auto_rows": null,
       "grid_column": null,
       "grid_gap": null,
       "grid_row": null,
       "grid_template_areas": null,
       "grid_template_columns": null,
       "grid_template_rows": null,
       "height": null,
       "justify_content": null,
       "justify_items": null,
       "left": null,
       "margin": null,
       "max_height": null,
       "max_width": null,
       "min_height": null,
       "min_width": null,
       "object_fit": null,
       "object_position": null,
       "order": null,
       "overflow": null,
       "overflow_x": null,
       "overflow_y": null,
       "padding": null,
       "right": null,
       "top": null,
       "visibility": null,
       "width": null
      }
     },
     "3515b3d9f81848fe9a90398a76705e30": {
      "model_module": "@jupyter-widgets/controls",
      "model_module_version": "1.5.0",
      "model_name": "DescriptionStyleModel",
      "state": {
       "_model_module": "@jupyter-widgets/controls",
       "_model_module_version": "1.5.0",
       "_model_name": "DescriptionStyleModel",
       "_view_count": null,
       "_view_module": "@jupyter-widgets/base",
       "_view_module_version": "1.2.0",
       "_view_name": "StyleView",
       "description_width": ""
      }
     },
     "38485f0ee89545f79860a24db94f4416": {
      "model_module": "@jupyter-widgets/controls",
      "model_module_version": "1.5.0",
      "model_name": "FloatProgressModel",
      "state": {
       "_dom_classes": [],
       "_model_module": "@jupyter-widgets/controls",
       "_model_module_version": "1.5.0",
       "_model_name": "FloatProgressModel",
       "_view_count": null,
       "_view_module": "@jupyter-widgets/controls",
       "_view_module_version": "1.5.0",
       "_view_name": "ProgressView",
       "bar_style": "success",
       "description": "",
       "description_tooltip": null,
       "layout": "IPY_MODEL_1905ca1c53b94b81bbca6cf6d61d6beb",
       "max": 650,
       "min": 0,
       "orientation": "horizontal",
       "style": "IPY_MODEL_92318a0bdc43473991c15371820ff939",
       "value": 650
      }
     },
     "3b2c08a69e624b7c98c4d986d78a19c8": {
      "model_module": "@jupyter-widgets/controls",
      "model_module_version": "1.5.0",
      "model_name": "HBoxModel",
      "state": {
       "_dom_classes": [],
       "_model_module": "@jupyter-widgets/controls",
       "_model_module_version": "1.5.0",
       "_model_name": "HBoxModel",
       "_view_count": null,
       "_view_module": "@jupyter-widgets/controls",
       "_view_module_version": "1.5.0",
       "_view_name": "HBoxView",
       "box_style": "",
       "children": [
        "IPY_MODEL_a3e4fc24ca364f388ed72b59d7595b41",
        "IPY_MODEL_f0bc2bb12d4e4ff9bf11e7f1f1cea0b8",
        "IPY_MODEL_2847ba78e2bb48c9a7e4db353ceedfaf"
       ],
       "layout": "IPY_MODEL_191c83ec44654083abd5f37aa4ce7844"
      }
     },
     "44de42eb0bcb4289aa8494f79469e733": {
      "model_module": "@jupyter-widgets/controls",
      "model_module_version": "1.5.0",
      "model_name": "HBoxModel",
      "state": {
       "_dom_classes": [],
       "_model_module": "@jupyter-widgets/controls",
       "_model_module_version": "1.5.0",
       "_model_name": "HBoxModel",
       "_view_count": null,
       "_view_module": "@jupyter-widgets/controls",
       "_view_module_version": "1.5.0",
       "_view_name": "HBoxView",
       "box_style": "",
       "children": [
        "IPY_MODEL_28f6a6c3829f4be7801dbe99c790dbab",
        "IPY_MODEL_38485f0ee89545f79860a24db94f4416",
        "IPY_MODEL_5d0c0235f8a94e55ae2d99b92b827fe1"
       ],
       "layout": "IPY_MODEL_4dc0e5357c2644a7aa5f6ab8f38427af"
      }
     },
     "488e0d0ad2c44fc7b98b4dc7145749db": {
      "model_module": "@jupyter-widgets/base",
      "model_module_version": "1.2.0",
      "model_name": "LayoutModel",
      "state": {
       "_model_module": "@jupyter-widgets/base",
       "_model_module_version": "1.2.0",
       "_model_name": "LayoutModel",
       "_view_count": null,
       "_view_module": "@jupyter-widgets/base",
       "_view_module_version": "1.2.0",
       "_view_name": "LayoutView",
       "align_content": null,
       "align_items": null,
       "align_self": null,
       "border": null,
       "bottom": null,
       "display": null,
       "flex": null,
       "flex_flow": null,
       "grid_area": null,
       "grid_auto_columns": null,
       "grid_auto_flow": null,
       "grid_auto_rows": null,
       "grid_column": null,
       "grid_gap": null,
       "grid_row": null,
       "grid_template_areas": null,
       "grid_template_columns": null,
       "grid_template_rows": null,
       "height": null,
       "justify_content": null,
       "justify_items": null,
       "left": null,
       "margin": null,
       "max_height": null,
       "max_width": null,
       "min_height": null,
       "min_width": null,
       "object_fit": null,
       "object_position": null,
       "order": null,
       "overflow": null,
       "overflow_x": null,
       "overflow_y": null,
       "padding": null,
       "right": null,
       "top": null,
       "visibility": null,
       "width": null
      }
     },
     "4dc0e5357c2644a7aa5f6ab8f38427af": {
      "model_module": "@jupyter-widgets/base",
      "model_module_version": "1.2.0",
      "model_name": "LayoutModel",
      "state": {
       "_model_module": "@jupyter-widgets/base",
       "_model_module_version": "1.2.0",
       "_model_name": "LayoutModel",
       "_view_count": null,
       "_view_module": "@jupyter-widgets/base",
       "_view_module_version": "1.2.0",
       "_view_name": "LayoutView",
       "align_content": null,
       "align_items": null,
       "align_self": null,
       "border": null,
       "bottom": null,
       "display": null,
       "flex": null,
       "flex_flow": null,
       "grid_area": null,
       "grid_auto_columns": null,
       "grid_auto_flow": null,
       "grid_auto_rows": null,
       "grid_column": null,
       "grid_gap": null,
       "grid_row": null,
       "grid_template_areas": null,
       "grid_template_columns": null,
       "grid_template_rows": null,
       "height": null,
       "justify_content": null,
       "justify_items": null,
       "left": null,
       "margin": null,
       "max_height": null,
       "max_width": null,
       "min_height": null,
       "min_width": null,
       "object_fit": null,
       "object_position": null,
       "order": null,
       "overflow": null,
       "overflow_x": null,
       "overflow_y": null,
       "padding": null,
       "right": null,
       "top": null,
       "visibility": null,
       "width": null
      }
     },
     "57ef08a105ae467f928cda028c2becf6": {
      "model_module": "@jupyter-widgets/base",
      "model_module_version": "1.2.0",
      "model_name": "LayoutModel",
      "state": {
       "_model_module": "@jupyter-widgets/base",
       "_model_module_version": "1.2.0",
       "_model_name": "LayoutModel",
       "_view_count": null,
       "_view_module": "@jupyter-widgets/base",
       "_view_module_version": "1.2.0",
       "_view_name": "LayoutView",
       "align_content": null,
       "align_items": null,
       "align_self": null,
       "border": null,
       "bottom": null,
       "display": null,
       "flex": null,
       "flex_flow": null,
       "grid_area": null,
       "grid_auto_columns": null,
       "grid_auto_flow": null,
       "grid_auto_rows": null,
       "grid_column": null,
       "grid_gap": null,
       "grid_row": null,
       "grid_template_areas": null,
       "grid_template_columns": null,
       "grid_template_rows": null,
       "height": null,
       "justify_content": null,
       "justify_items": null,
       "left": null,
       "margin": null,
       "max_height": null,
       "max_width": null,
       "min_height": null,
       "min_width": null,
       "object_fit": null,
       "object_position": null,
       "order": null,
       "overflow": null,
       "overflow_x": null,
       "overflow_y": null,
       "padding": null,
       "right": null,
       "top": null,
       "visibility": null,
       "width": null
      }
     },
     "57f6df46521c4ab2b5e64763ed056081": {
      "model_module": "@jupyter-widgets/controls",
      "model_module_version": "1.5.0",
      "model_name": "FloatProgressModel",
      "state": {
       "_dom_classes": [],
       "_model_module": "@jupyter-widgets/controls",
       "_model_module_version": "1.5.0",
       "_model_name": "FloatProgressModel",
       "_view_count": null,
       "_view_module": "@jupyter-widgets/controls",
       "_view_module_version": "1.5.0",
       "_view_name": "ProgressView",
       "bar_style": "success",
       "description": "",
       "description_tooltip": null,
       "layout": "IPY_MODEL_8cbc620e7ef341a08b094aaf9efeb3fb",
       "max": 310,
       "min": 0,
       "orientation": "horizontal",
       "style": "IPY_MODEL_b6b8ff0dee3143a69e0e2c72962a8c6a",
       "value": 310
      }
     },
     "58235ba52aaf4960b5f398a964339a28": {
      "model_module": "@jupyter-widgets/controls",
      "model_module_version": "1.5.0",
      "model_name": "DescriptionStyleModel",
      "state": {
       "_model_module": "@jupyter-widgets/controls",
       "_model_module_version": "1.5.0",
       "_model_name": "DescriptionStyleModel",
       "_view_count": null,
       "_view_module": "@jupyter-widgets/base",
       "_view_module_version": "1.2.0",
       "_view_name": "StyleView",
       "description_width": ""
      }
     },
     "5d0c0235f8a94e55ae2d99b92b827fe1": {
      "model_module": "@jupyter-widgets/controls",
      "model_module_version": "1.5.0",
      "model_name": "HTMLModel",
      "state": {
       "_dom_classes": [],
       "_model_module": "@jupyter-widgets/controls",
       "_model_module_version": "1.5.0",
       "_model_name": "HTMLModel",
       "_view_count": null,
       "_view_module": "@jupyter-widgets/controls",
       "_view_module_version": "1.5.0",
       "_view_name": "HTMLView",
       "description": "",
       "description_tooltip": null,
       "layout": "IPY_MODEL_819d60abd7ab4cfa9ae3a7ff5ce99285",
       "placeholder": "​",
       "style": "IPY_MODEL_c616e557ca674fc4a7af8606882446d0",
       "value": " 650/650 [00:00&lt;00:00, 17.2kB/s]"
      }
     },
     "5d549e92cfa74c6b921cf6a7d4390c73": {
      "model_module": "@jupyter-widgets/controls",
      "model_module_version": "1.5.0",
      "model_name": "DescriptionStyleModel",
      "state": {
       "_model_module": "@jupyter-widgets/controls",
       "_model_module_version": "1.5.0",
       "_model_name": "DescriptionStyleModel",
       "_view_count": null,
       "_view_module": "@jupyter-widgets/base",
       "_view_module_version": "1.2.0",
       "_view_name": "StyleView",
       "description_width": ""
      }
     },
     "64507bc3a26e4d8d943059f1e694aac7": {
      "model_module": "@jupyter-widgets/controls",
      "model_module_version": "1.5.0",
      "model_name": "DescriptionStyleModel",
      "state": {
       "_model_module": "@jupyter-widgets/controls",
       "_model_module_version": "1.5.0",
       "_model_name": "DescriptionStyleModel",
       "_view_count": null,
       "_view_module": "@jupyter-widgets/base",
       "_view_module_version": "1.2.0",
       "_view_name": "StyleView",
       "description_width": ""
      }
     },
     "64743f0726fa4c8aa5601b592ebcbf15": {
      "model_module": "@jupyter-widgets/controls",
      "model_module_version": "1.5.0",
      "model_name": "HTMLModel",
      "state": {
       "_dom_classes": [],
       "_model_module": "@jupyter-widgets/controls",
       "_model_module_version": "1.5.0",
       "_model_name": "HTMLModel",
       "_view_count": null,
       "_view_module": "@jupyter-widgets/controls",
       "_view_module_version": "1.5.0",
       "_view_name": "HTMLView",
       "description": "",
       "description_tooltip": null,
       "layout": "IPY_MODEL_c49f15a587ee44ae9c35ee893b3318d5",
       "placeholder": "​",
       "style": "IPY_MODEL_58235ba52aaf4960b5f398a964339a28",
       "value": " 475k/475k [00:00&lt;00:00, 645kB/s]"
      }
     },
     "6a29297cd2df405bbe1e5e68a1ab6fa9": {
      "model_module": "@jupyter-widgets/controls",
      "model_module_version": "1.5.0",
      "model_name": "HTMLModel",
      "state": {
       "_dom_classes": [],
       "_model_module": "@jupyter-widgets/controls",
       "_model_module_version": "1.5.0",
       "_model_name": "HTMLModel",
       "_view_count": null,
       "_view_module": "@jupyter-widgets/controls",
       "_view_module_version": "1.5.0",
       "_view_name": "HTMLView",
       "description": "",
       "description_tooltip": null,
       "layout": "IPY_MODEL_041c4d8623e443a69ccf9cfb74871f00",
       "placeholder": "​",
       "style": "IPY_MODEL_8ed7e839280b4828818a5fbcee4c62de",
       "value": "Downloading: 100%"
      }
     },
     "6d8ba984753f49f88d17d899b82e320e": {
      "model_module": "@jupyter-widgets/controls",
      "model_module_version": "1.5.0",
      "model_name": "HBoxModel",
      "state": {
       "_dom_classes": [],
       "_model_module": "@jupyter-widgets/controls",
       "_model_module_version": "1.5.0",
       "_model_name": "HBoxModel",
       "_view_count": null,
       "_view_module": "@jupyter-widgets/controls",
       "_view_module_version": "1.5.0",
       "_view_name": "HBoxView",
       "box_style": "",
       "children": [
        "IPY_MODEL_1cc581d3893d4d4d9578ff6b3a6b64ee",
        "IPY_MODEL_0e1841c74c014c47a500d284c3eb36f1",
        "IPY_MODEL_c893fdb64fbc48c1bc2327580d21517c"
       ],
       "layout": "IPY_MODEL_f483915ae86d4d1da82fe0fac7bef62c"
      }
     },
     "6f6c06d434e24edeb8f9c7c5473863c1": {
      "model_module": "@jupyter-widgets/controls",
      "model_module_version": "1.5.0",
      "model_name": "FloatProgressModel",
      "state": {
       "_dom_classes": [],
       "_model_module": "@jupyter-widgets/controls",
       "_model_module_version": "1.5.0",
       "_model_name": "FloatProgressModel",
       "_view_count": null,
       "_view_module": "@jupyter-widgets/controls",
       "_view_module_version": "1.5.0",
       "_view_name": "ProgressView",
       "bar_style": "success",
       "description": "",
       "description_tooltip": null,
       "layout": "IPY_MODEL_01a64b1a6f90489aa374dc971dce292d",
       "max": 486125,
       "min": 0,
       "orientation": "horizontal",
       "style": "IPY_MODEL_d7732f8052b44f7b9b9ae950ba48f79c",
       "value": 486125
      }
     },
     "6fb93abb57ba482d8be46835431fefff": {
      "model_module": "@jupyter-widgets/controls",
      "model_module_version": "1.5.0",
      "model_name": "DescriptionStyleModel",
      "state": {
       "_model_module": "@jupyter-widgets/controls",
       "_model_module_version": "1.5.0",
       "_model_name": "DescriptionStyleModel",
       "_view_count": null,
       "_view_module": "@jupyter-widgets/base",
       "_view_module_version": "1.2.0",
       "_view_name": "StyleView",
       "description_width": ""
      }
     },
     "700c3d8663424c7cad7300a5523c990f": {
      "model_module": "@jupyter-widgets/base",
      "model_module_version": "1.2.0",
      "model_name": "LayoutModel",
      "state": {
       "_model_module": "@jupyter-widgets/base",
       "_model_module_version": "1.2.0",
       "_model_name": "LayoutModel",
       "_view_count": null,
       "_view_module": "@jupyter-widgets/base",
       "_view_module_version": "1.2.0",
       "_view_name": "LayoutView",
       "align_content": null,
       "align_items": null,
       "align_self": null,
       "border": null,
       "bottom": null,
       "display": null,
       "flex": null,
       "flex_flow": null,
       "grid_area": null,
       "grid_auto_columns": null,
       "grid_auto_flow": null,
       "grid_auto_rows": null,
       "grid_column": null,
       "grid_gap": null,
       "grid_row": null,
       "grid_template_areas": null,
       "grid_template_columns": null,
       "grid_template_rows": null,
       "height": null,
       "justify_content": null,
       "justify_items": null,
       "left": null,
       "margin": null,
       "max_height": null,
       "max_width": null,
       "min_height": null,
       "min_width": null,
       "object_fit": null,
       "object_position": null,
       "order": null,
       "overflow": null,
       "overflow_x": null,
       "overflow_y": null,
       "padding": null,
       "right": null,
       "top": null,
       "visibility": null,
       "width": null
      }
     },
     "80d1f2a3ff684ca9b8255676e4425861": {
      "model_module": "@jupyter-widgets/controls",
      "model_module_version": "1.5.0",
      "model_name": "DescriptionStyleModel",
      "state": {
       "_model_module": "@jupyter-widgets/controls",
       "_model_module_version": "1.5.0",
       "_model_name": "DescriptionStyleModel",
       "_view_count": null,
       "_view_module": "@jupyter-widgets/base",
       "_view_module_version": "1.2.0",
       "_view_name": "StyleView",
       "description_width": ""
      }
     },
     "819d60abd7ab4cfa9ae3a7ff5ce99285": {
      "model_module": "@jupyter-widgets/base",
      "model_module_version": "1.2.0",
      "model_name": "LayoutModel",
      "state": {
       "_model_module": "@jupyter-widgets/base",
       "_model_module_version": "1.2.0",
       "_model_name": "LayoutModel",
       "_view_count": null,
       "_view_module": "@jupyter-widgets/base",
       "_view_module_version": "1.2.0",
       "_view_name": "LayoutView",
       "align_content": null,
       "align_items": null,
       "align_self": null,
       "border": null,
       "bottom": null,
       "display": null,
       "flex": null,
       "flex_flow": null,
       "grid_area": null,
       "grid_auto_columns": null,
       "grid_auto_flow": null,
       "grid_auto_rows": null,
       "grid_column": null,
       "grid_gap": null,
       "grid_row": null,
       "grid_template_areas": null,
       "grid_template_columns": null,
       "grid_template_rows": null,
       "height": null,
       "justify_content": null,
       "justify_items": null,
       "left": null,
       "margin": null,
       "max_height": null,
       "max_width": null,
       "min_height": null,
       "min_width": null,
       "object_fit": null,
       "object_position": null,
       "order": null,
       "overflow": null,
       "overflow_x": null,
       "overflow_y": null,
       "padding": null,
       "right": null,
       "top": null,
       "visibility": null,
       "width": null
      }
     },
     "82f23afa391044c5a3757e0993f158ff": {
      "model_module": "@jupyter-widgets/controls",
      "model_module_version": "1.5.0",
      "model_name": "HBoxModel",
      "state": {
       "_dom_classes": [],
       "_model_module": "@jupyter-widgets/controls",
       "_model_module_version": "1.5.0",
       "_model_name": "HBoxModel",
       "_view_count": null,
       "_view_module": "@jupyter-widgets/controls",
       "_view_module_version": "1.5.0",
       "_view_name": "HBoxView",
       "box_style": "",
       "children": [
        "IPY_MODEL_ba66aaef4f9643cfa8d23900967a4581",
        "IPY_MODEL_57f6df46521c4ab2b5e64763ed056081",
        "IPY_MODEL_caa24024abb94d669db378e523716630"
       ],
       "layout": "IPY_MODEL_fc1653e225a64ebaa5bde2b7610105a5"
      }
     },
     "8a631c0f9d204763a8e60499367aeaa6": {
      "model_module": "@jupyter-widgets/controls",
      "model_module_version": "1.5.0",
      "model_name": "DescriptionStyleModel",
      "state": {
       "_model_module": "@jupyter-widgets/controls",
       "_model_module_version": "1.5.0",
       "_model_name": "DescriptionStyleModel",
       "_view_count": null,
       "_view_module": "@jupyter-widgets/base",
       "_view_module_version": "1.2.0",
       "_view_name": "StyleView",
       "description_width": ""
      }
     },
     "8cbc620e7ef341a08b094aaf9efeb3fb": {
      "model_module": "@jupyter-widgets/base",
      "model_module_version": "1.2.0",
      "model_name": "LayoutModel",
      "state": {
       "_model_module": "@jupyter-widgets/base",
       "_model_module_version": "1.2.0",
       "_model_name": "LayoutModel",
       "_view_count": null,
       "_view_module": "@jupyter-widgets/base",
       "_view_module_version": "1.2.0",
       "_view_name": "LayoutView",
       "align_content": null,
       "align_items": null,
       "align_self": null,
       "border": null,
       "bottom": null,
       "display": null,
       "flex": null,
       "flex_flow": null,
       "grid_area": null,
       "grid_auto_columns": null,
       "grid_auto_flow": null,
       "grid_auto_rows": null,
       "grid_column": null,
       "grid_gap": null,
       "grid_row": null,
       "grid_template_areas": null,
       "grid_template_columns": null,
       "grid_template_rows": null,
       "height": null,
       "justify_content": null,
       "justify_items": null,
       "left": null,
       "margin": null,
       "max_height": null,
       "max_width": null,
       "min_height": null,
       "min_width": null,
       "object_fit": null,
       "object_position": null,
       "order": null,
       "overflow": null,
       "overflow_x": null,
       "overflow_y": null,
       "padding": null,
       "right": null,
       "top": null,
       "visibility": null,
       "width": null
      }
     },
     "8ed7e839280b4828818a5fbcee4c62de": {
      "model_module": "@jupyter-widgets/controls",
      "model_module_version": "1.5.0",
      "model_name": "DescriptionStyleModel",
      "state": {
       "_model_module": "@jupyter-widgets/controls",
       "_model_module_version": "1.5.0",
       "_model_name": "DescriptionStyleModel",
       "_view_count": null,
       "_view_module": "@jupyter-widgets/base",
       "_view_module_version": "1.2.0",
       "_view_name": "StyleView",
       "description_width": ""
      }
     },
     "92318a0bdc43473991c15371820ff939": {
      "model_module": "@jupyter-widgets/controls",
      "model_module_version": "1.5.0",
      "model_name": "ProgressStyleModel",
      "state": {
       "_model_module": "@jupyter-widgets/controls",
       "_model_module_version": "1.5.0",
       "_model_name": "ProgressStyleModel",
       "_view_count": null,
       "_view_module": "@jupyter-widgets/base",
       "_view_module_version": "1.2.0",
       "_view_name": "StyleView",
       "bar_color": null,
       "description_width": ""
      }
     },
     "96823bdc0a6140bfb96df68703a2b2ab": {
      "model_module": "@jupyter-widgets/base",
      "model_module_version": "1.2.0",
      "model_name": "LayoutModel",
      "state": {
       "_model_module": "@jupyter-widgets/base",
       "_model_module_version": "1.2.0",
       "_model_name": "LayoutModel",
       "_view_count": null,
       "_view_module": "@jupyter-widgets/base",
       "_view_module_version": "1.2.0",
       "_view_name": "LayoutView",
       "align_content": null,
       "align_items": null,
       "align_self": null,
       "border": null,
       "bottom": null,
       "display": null,
       "flex": null,
       "flex_flow": null,
       "grid_area": null,
       "grid_auto_columns": null,
       "grid_auto_flow": null,
       "grid_auto_rows": null,
       "grid_column": null,
       "grid_gap": null,
       "grid_row": null,
       "grid_template_areas": null,
       "grid_template_columns": null,
       "grid_template_rows": null,
       "height": null,
       "justify_content": null,
       "justify_items": null,
       "left": null,
       "margin": null,
       "max_height": null,
       "max_width": null,
       "min_height": null,
       "min_width": null,
       "object_fit": null,
       "object_position": null,
       "order": null,
       "overflow": null,
       "overflow_x": null,
       "overflow_y": null,
       "padding": null,
       "right": null,
       "top": null,
       "visibility": null,
       "width": null
      }
     },
     "9ba3994a40b14250b2cd447b32cfbdb9": {
      "model_module": "@jupyter-widgets/controls",
      "model_module_version": "1.5.0",
      "model_name": "DescriptionStyleModel",
      "state": {
       "_model_module": "@jupyter-widgets/controls",
       "_model_module_version": "1.5.0",
       "_model_name": "DescriptionStyleModel",
       "_view_count": null,
       "_view_module": "@jupyter-widgets/base",
       "_view_module_version": "1.2.0",
       "_view_name": "StyleView",
       "description_width": ""
      }
     },
     "a3e4fc24ca364f388ed72b59d7595b41": {
      "model_module": "@jupyter-widgets/controls",
      "model_module_version": "1.5.0",
      "model_name": "HTMLModel",
      "state": {
       "_dom_classes": [],
       "_model_module": "@jupyter-widgets/controls",
       "_model_module_version": "1.5.0",
       "_model_name": "HTMLModel",
       "_view_count": null,
       "_view_module": "@jupyter-widgets/controls",
       "_view_module_version": "1.5.0",
       "_view_name": "HTMLView",
       "description": "",
       "description_tooltip": null,
       "layout": "IPY_MODEL_f18940145aec4cfabe3aa4eb01898018",
       "placeholder": "​",
       "style": "IPY_MODEL_9ba3994a40b14250b2cd447b32cfbdb9",
       "value": "Downloading: 100%"
      }
     },
     "ab9685df17644db0bc15d0a230bbdce9": {
      "model_module": "@jupyter-widgets/controls",
      "model_module_version": "1.5.0",
      "model_name": "HTMLModel",
      "state": {
       "_dom_classes": [],
       "_model_module": "@jupyter-widgets/controls",
       "_model_module_version": "1.5.0",
       "_model_name": "HTMLModel",
       "_view_count": null,
       "_view_module": "@jupyter-widgets/controls",
       "_view_module_version": "1.5.0",
       "_view_name": "HTMLView",
       "description": "",
       "description_tooltip": null,
       "layout": "IPY_MODEL_f613ce730e824b6cba14a6c93380b088",
       "placeholder": "​",
       "style": "IPY_MODEL_18eee088092440ae9a2d8e3204b34936",
       "value": " 242k/242k [00:00&lt;00:00, 625kB/s]"
      }
     },
     "b3d7774d7d814d93beb5244804f457c5": {
      "model_module": "@jupyter-widgets/base",
      "model_module_version": "1.2.0",
      "model_name": "LayoutModel",
      "state": {
       "_model_module": "@jupyter-widgets/base",
       "_model_module_version": "1.2.0",
       "_model_name": "LayoutModel",
       "_view_count": null,
       "_view_module": "@jupyter-widgets/base",
       "_view_module_version": "1.2.0",
       "_view_name": "LayoutView",
       "align_content": null,
       "align_items": null,
       "align_self": null,
       "border": null,
       "bottom": null,
       "display": null,
       "flex": null,
       "flex_flow": null,
       "grid_area": null,
       "grid_auto_columns": null,
       "grid_auto_flow": null,
       "grid_auto_rows": null,
       "grid_column": null,
       "grid_gap": null,
       "grid_row": null,
       "grid_template_areas": null,
       "grid_template_columns": null,
       "grid_template_rows": null,
       "height": null,
       "justify_content": null,
       "justify_items": null,
       "left": null,
       "margin": null,
       "max_height": null,
       "max_width": null,
       "min_height": null,
       "min_width": null,
       "object_fit": null,
       "object_position": null,
       "order": null,
       "overflow": null,
       "overflow_x": null,
       "overflow_y": null,
       "padding": null,
       "right": null,
       "top": null,
       "visibility": null,
       "width": null
      }
     },
     "b6b8ff0dee3143a69e0e2c72962a8c6a": {
      "model_module": "@jupyter-widgets/controls",
      "model_module_version": "1.5.0",
      "model_name": "ProgressStyleModel",
      "state": {
       "_model_module": "@jupyter-widgets/controls",
       "_model_module_version": "1.5.0",
       "_model_name": "ProgressStyleModel",
       "_view_count": null,
       "_view_module": "@jupyter-widgets/base",
       "_view_module_version": "1.2.0",
       "_view_name": "StyleView",
       "bar_color": null,
       "description_width": ""
      }
     },
     "ba66aaef4f9643cfa8d23900967a4581": {
      "model_module": "@jupyter-widgets/controls",
      "model_module_version": "1.5.0",
      "model_name": "HTMLModel",
      "state": {
       "_dom_classes": [],
       "_model_module": "@jupyter-widgets/controls",
       "_model_module_version": "1.5.0",
       "_model_name": "HTMLModel",
       "_view_count": null,
       "_view_module": "@jupyter-widgets/controls",
       "_view_module_version": "1.5.0",
       "_view_name": "HTMLView",
       "description": "",
       "description_tooltip": null,
       "layout": "IPY_MODEL_700c3d8663424c7cad7300a5523c990f",
       "placeholder": "​",
       "style": "IPY_MODEL_3515b3d9f81848fe9a90398a76705e30",
       "value": "Downloading: 100%"
      }
     },
     "c49f15a587ee44ae9c35ee893b3318d5": {
      "model_module": "@jupyter-widgets/base",
      "model_module_version": "1.2.0",
      "model_name": "LayoutModel",
      "state": {
       "_model_module": "@jupyter-widgets/base",
       "_model_module_version": "1.2.0",
       "_model_name": "LayoutModel",
       "_view_count": null,
       "_view_module": "@jupyter-widgets/base",
       "_view_module_version": "1.2.0",
       "_view_name": "LayoutView",
       "align_content": null,
       "align_items": null,
       "align_self": null,
       "border": null,
       "bottom": null,
       "display": null,
       "flex": null,
       "flex_flow": null,
       "grid_area": null,
       "grid_auto_columns": null,
       "grid_auto_flow": null,
       "grid_auto_rows": null,
       "grid_column": null,
       "grid_gap": null,
       "grid_row": null,
       "grid_template_areas": null,
       "grid_template_columns": null,
       "grid_template_rows": null,
       "height": null,
       "justify_content": null,
       "justify_items": null,
       "left": null,
       "margin": null,
       "max_height": null,
       "max_width": null,
       "min_height": null,
       "min_width": null,
       "object_fit": null,
       "object_position": null,
       "order": null,
       "overflow": null,
       "overflow_x": null,
       "overflow_y": null,
       "padding": null,
       "right": null,
       "top": null,
       "visibility": null,
       "width": null
      }
     },
     "c616e557ca674fc4a7af8606882446d0": {
      "model_module": "@jupyter-widgets/controls",
      "model_module_version": "1.5.0",
      "model_name": "DescriptionStyleModel",
      "state": {
       "_model_module": "@jupyter-widgets/controls",
       "_model_module_version": "1.5.0",
       "_model_name": "DescriptionStyleModel",
       "_view_count": null,
       "_view_module": "@jupyter-widgets/base",
       "_view_module_version": "1.2.0",
       "_view_name": "StyleView",
       "description_width": ""
      }
     },
     "c84de78237c146b396409bcf0fa58e75": {
      "model_module": "@jupyter-widgets/base",
      "model_module_version": "1.2.0",
      "model_name": "LayoutModel",
      "state": {
       "_model_module": "@jupyter-widgets/base",
       "_model_module_version": "1.2.0",
       "_model_name": "LayoutModel",
       "_view_count": null,
       "_view_module": "@jupyter-widgets/base",
       "_view_module_version": "1.2.0",
       "_view_name": "LayoutView",
       "align_content": null,
       "align_items": null,
       "align_self": null,
       "border": null,
       "bottom": null,
       "display": null,
       "flex": null,
       "flex_flow": null,
       "grid_area": null,
       "grid_auto_columns": null,
       "grid_auto_flow": null,
       "grid_auto_rows": null,
       "grid_column": null,
       "grid_gap": null,
       "grid_row": null,
       "grid_template_areas": null,
       "grid_template_columns": null,
       "grid_template_rows": null,
       "height": null,
       "justify_content": null,
       "justify_items": null,
       "left": null,
       "margin": null,
       "max_height": null,
       "max_width": null,
       "min_height": null,
       "min_width": null,
       "object_fit": null,
       "object_position": null,
       "order": null,
       "overflow": null,
       "overflow_x": null,
       "overflow_y": null,
       "padding": null,
       "right": null,
       "top": null,
       "visibility": null,
       "width": null
      }
     },
     "c893fdb64fbc48c1bc2327580d21517c": {
      "model_module": "@jupyter-widgets/controls",
      "model_module_version": "1.5.0",
      "model_name": "HTMLModel",
      "state": {
       "_dom_classes": [],
       "_model_module": "@jupyter-widgets/controls",
       "_model_module_version": "1.5.0",
       "_model_name": "HTMLModel",
       "_view_count": null,
       "_view_module": "@jupyter-widgets/controls",
       "_view_module_version": "1.5.0",
       "_view_name": "HTMLView",
       "description": "",
       "description_tooltip": null,
       "layout": "IPY_MODEL_d7fed01607fb44ee999468bd1f9d108d",
       "placeholder": "​",
       "style": "IPY_MODEL_8a631c0f9d204763a8e60499367aeaa6",
       "value": " 419M/419M [00:14&lt;00:00, 31.1MB/s]"
      }
     },
     "caa24024abb94d669db378e523716630": {
      "model_module": "@jupyter-widgets/controls",
      "model_module_version": "1.5.0",
      "model_name": "HTMLModel",
      "state": {
       "_dom_classes": [],
       "_model_module": "@jupyter-widgets/controls",
       "_model_module_version": "1.5.0",
       "_model_name": "HTMLModel",
       "_view_count": null,
       "_view_module": "@jupyter-widgets/controls",
       "_view_module_version": "1.5.0",
       "_view_name": "HTMLView",
       "description": "",
       "description_tooltip": null,
       "layout": "IPY_MODEL_488e0d0ad2c44fc7b98b4dc7145749db",
       "placeholder": "​",
       "style": "IPY_MODEL_6fb93abb57ba482d8be46835431fefff",
       "value": " 310/310 [00:00&lt;00:00, 12.3kB/s]"
      }
     },
     "d7732f8052b44f7b9b9ae950ba48f79c": {
      "model_module": "@jupyter-widgets/controls",
      "model_module_version": "1.5.0",
      "model_name": "ProgressStyleModel",
      "state": {
       "_model_module": "@jupyter-widgets/controls",
       "_model_module_version": "1.5.0",
       "_model_name": "ProgressStyleModel",
       "_view_count": null,
       "_view_module": "@jupyter-widgets/base",
       "_view_module_version": "1.2.0",
       "_view_name": "StyleView",
       "bar_color": null,
       "description_width": ""
      }
     },
     "d7fed01607fb44ee999468bd1f9d108d": {
      "model_module": "@jupyter-widgets/base",
      "model_module_version": "1.2.0",
      "model_name": "LayoutModel",
      "state": {
       "_model_module": "@jupyter-widgets/base",
       "_model_module_version": "1.2.0",
       "_model_name": "LayoutModel",
       "_view_count": null,
       "_view_module": "@jupyter-widgets/base",
       "_view_module_version": "1.2.0",
       "_view_name": "LayoutView",
       "align_content": null,
       "align_items": null,
       "align_self": null,
       "border": null,
       "bottom": null,
       "display": null,
       "flex": null,
       "flex_flow": null,
       "grid_area": null,
       "grid_auto_columns": null,
       "grid_auto_flow": null,
       "grid_auto_rows": null,
       "grid_column": null,
       "grid_gap": null,
       "grid_row": null,
       "grid_template_areas": null,
       "grid_template_columns": null,
       "grid_template_rows": null,
       "height": null,
       "justify_content": null,
       "justify_items": null,
       "left": null,
       "margin": null,
       "max_height": null,
       "max_width": null,
       "min_height": null,
       "min_width": null,
       "object_fit": null,
       "object_position": null,
       "order": null,
       "overflow": null,
       "overflow_x": null,
       "overflow_y": null,
       "padding": null,
       "right": null,
       "top": null,
       "visibility": null,
       "width": null
      }
     },
     "d93c0fc2d04a43aa8e4bc43db211fea6": {
      "model_module": "@jupyter-widgets/controls",
      "model_module_version": "1.5.0",
      "model_name": "HBoxModel",
      "state": {
       "_dom_classes": [],
       "_model_module": "@jupyter-widgets/controls",
       "_model_module_version": "1.5.0",
       "_model_name": "HBoxModel",
       "_view_count": null,
       "_view_module": "@jupyter-widgets/controls",
       "_view_module_version": "1.5.0",
       "_view_name": "HBoxView",
       "box_style": "",
       "children": [
        "IPY_MODEL_d9c3aad172bc4086b2ab15c438035af0",
        "IPY_MODEL_6f6c06d434e24edeb8f9c7c5473863c1",
        "IPY_MODEL_64743f0726fa4c8aa5601b592ebcbf15"
       ],
       "layout": "IPY_MODEL_ebc542e10e3a4078819bfb4e6a90e5f8"
      }
     },
     "d9c3aad172bc4086b2ab15c438035af0": {
      "model_module": "@jupyter-widgets/controls",
      "model_module_version": "1.5.0",
      "model_name": "HTMLModel",
      "state": {
       "_dom_classes": [],
       "_model_module": "@jupyter-widgets/controls",
       "_model_module_version": "1.5.0",
       "_model_name": "HTMLModel",
       "_view_count": null,
       "_view_module": "@jupyter-widgets/controls",
       "_view_module_version": "1.5.0",
       "_view_name": "HTMLView",
       "description": "",
       "description_tooltip": null,
       "layout": "IPY_MODEL_b3d7774d7d814d93beb5244804f457c5",
       "placeholder": "​",
       "style": "IPY_MODEL_80d1f2a3ff684ca9b8255676e4425861",
       "value": "Downloading: 100%"
      }
     },
     "e973acceb8874143ba0ee675063efba8": {
      "model_module": "@jupyter-widgets/base",
      "model_module_version": "1.2.0",
      "model_name": "LayoutModel",
      "state": {
       "_model_module": "@jupyter-widgets/base",
       "_model_module_version": "1.2.0",
       "_model_name": "LayoutModel",
       "_view_count": null,
       "_view_module": "@jupyter-widgets/base",
       "_view_module_version": "1.2.0",
       "_view_name": "LayoutView",
       "align_content": null,
       "align_items": null,
       "align_self": null,
       "border": null,
       "bottom": null,
       "display": null,
       "flex": null,
       "flex_flow": null,
       "grid_area": null,
       "grid_auto_columns": null,
       "grid_auto_flow": null,
       "grid_auto_rows": null,
       "grid_column": null,
       "grid_gap": null,
       "grid_row": null,
       "grid_template_areas": null,
       "grid_template_columns": null,
       "grid_template_rows": null,
       "height": null,
       "justify_content": null,
       "justify_items": null,
       "left": null,
       "margin": null,
       "max_height": null,
       "max_width": null,
       "min_height": null,
       "min_width": null,
       "object_fit": null,
       "object_position": null,
       "order": null,
       "overflow": null,
       "overflow_x": null,
       "overflow_y": null,
       "padding": null,
       "right": null,
       "top": null,
       "visibility": null,
       "width": null
      }
     },
     "ebc542e10e3a4078819bfb4e6a90e5f8": {
      "model_module": "@jupyter-widgets/base",
      "model_module_version": "1.2.0",
      "model_name": "LayoutModel",
      "state": {
       "_model_module": "@jupyter-widgets/base",
       "_model_module_version": "1.2.0",
       "_model_name": "LayoutModel",
       "_view_count": null,
       "_view_module": "@jupyter-widgets/base",
       "_view_module_version": "1.2.0",
       "_view_name": "LayoutView",
       "align_content": null,
       "align_items": null,
       "align_self": null,
       "border": null,
       "bottom": null,
       "display": null,
       "flex": null,
       "flex_flow": null,
       "grid_area": null,
       "grid_auto_columns": null,
       "grid_auto_flow": null,
       "grid_auto_rows": null,
       "grid_column": null,
       "grid_gap": null,
       "grid_row": null,
       "grid_template_areas": null,
       "grid_template_columns": null,
       "grid_template_rows": null,
       "height": null,
       "justify_content": null,
       "justify_items": null,
       "left": null,
       "margin": null,
       "max_height": null,
       "max_width": null,
       "min_height": null,
       "min_width": null,
       "object_fit": null,
       "object_position": null,
       "order": null,
       "overflow": null,
       "overflow_x": null,
       "overflow_y": null,
       "padding": null,
       "right": null,
       "top": null,
       "visibility": null,
       "width": null
      }
     },
     "ee41103c62f04ad39447845a03f27d09": {
      "model_module": "@jupyter-widgets/controls",
      "model_module_version": "1.5.0",
      "model_name": "ProgressStyleModel",
      "state": {
       "_model_module": "@jupyter-widgets/controls",
       "_model_module_version": "1.5.0",
       "_model_name": "ProgressStyleModel",
       "_view_count": null,
       "_view_module": "@jupyter-widgets/base",
       "_view_module_version": "1.2.0",
       "_view_name": "StyleView",
       "bar_color": null,
       "description_width": ""
      }
     },
     "f0bc2bb12d4e4ff9bf11e7f1f1cea0b8": {
      "model_module": "@jupyter-widgets/controls",
      "model_module_version": "1.5.0",
      "model_name": "FloatProgressModel",
      "state": {
       "_dom_classes": [],
       "_model_module": "@jupyter-widgets/controls",
       "_model_module_version": "1.5.0",
       "_model_name": "FloatProgressModel",
       "_view_count": null,
       "_view_module": "@jupyter-widgets/controls",
       "_view_module_version": "1.5.0",
       "_view_name": "ProgressView",
       "bar_style": "success",
       "description": "",
       "description_tooltip": null,
       "layout": "IPY_MODEL_e973acceb8874143ba0ee675063efba8",
       "max": 134,
       "min": 0,
       "orientation": "horizontal",
       "style": "IPY_MODEL_20836b2f3b674f758196e7785e0c401f",
       "value": 134
      }
     },
     "f1760151dc88444bad2a7914fb25619b": {
      "model_module": "@jupyter-widgets/base",
      "model_module_version": "1.2.0",
      "model_name": "LayoutModel",
      "state": {
       "_model_module": "@jupyter-widgets/base",
       "_model_module_version": "1.2.0",
       "_model_name": "LayoutModel",
       "_view_count": null,
       "_view_module": "@jupyter-widgets/base",
       "_view_module_version": "1.2.0",
       "_view_name": "LayoutView",
       "align_content": null,
       "align_items": null,
       "align_self": null,
       "border": null,
       "bottom": null,
       "display": null,
       "flex": null,
       "flex_flow": null,
       "grid_area": null,
       "grid_auto_columns": null,
       "grid_auto_flow": null,
       "grid_auto_rows": null,
       "grid_column": null,
       "grid_gap": null,
       "grid_row": null,
       "grid_template_areas": null,
       "grid_template_columns": null,
       "grid_template_rows": null,
       "height": null,
       "justify_content": null,
       "justify_items": null,
       "left": null,
       "margin": null,
       "max_height": null,
       "max_width": null,
       "min_height": null,
       "min_width": null,
       "object_fit": null,
       "object_position": null,
       "order": null,
       "overflow": null,
       "overflow_x": null,
       "overflow_y": null,
       "padding": null,
       "right": null,
       "top": null,
       "visibility": null,
       "width": null
      }
     },
     "f18940145aec4cfabe3aa4eb01898018": {
      "model_module": "@jupyter-widgets/base",
      "model_module_version": "1.2.0",
      "model_name": "LayoutModel",
      "state": {
       "_model_module": "@jupyter-widgets/base",
       "_model_module_version": "1.2.0",
       "_model_name": "LayoutModel",
       "_view_count": null,
       "_view_module": "@jupyter-widgets/base",
       "_view_module_version": "1.2.0",
       "_view_name": "LayoutView",
       "align_content": null,
       "align_items": null,
       "align_self": null,
       "border": null,
       "bottom": null,
       "display": null,
       "flex": null,
       "flex_flow": null,
       "grid_area": null,
       "grid_auto_columns": null,
       "grid_auto_flow": null,
       "grid_auto_rows": null,
       "grid_column": null,
       "grid_gap": null,
       "grid_row": null,
       "grid_template_areas": null,
       "grid_template_columns": null,
       "grid_template_rows": null,
       "height": null,
       "justify_content": null,
       "justify_items": null,
       "left": null,
       "margin": null,
       "max_height": null,
       "max_width": null,
       "min_height": null,
       "min_width": null,
       "object_fit": null,
       "object_position": null,
       "order": null,
       "overflow": null,
       "overflow_x": null,
       "overflow_y": null,
       "padding": null,
       "right": null,
       "top": null,
       "visibility": null,
       "width": null
      }
     },
     "f41a38b8f9e0489f96dabff16ca4f375": {
      "model_module": "@jupyter-widgets/base",
      "model_module_version": "1.2.0",
      "model_name": "LayoutModel",
      "state": {
       "_model_module": "@jupyter-widgets/base",
       "_model_module_version": "1.2.0",
       "_model_name": "LayoutModel",
       "_view_count": null,
       "_view_module": "@jupyter-widgets/base",
       "_view_module_version": "1.2.0",
       "_view_name": "LayoutView",
       "align_content": null,
       "align_items": null,
       "align_self": null,
       "border": null,
       "bottom": null,
       "display": null,
       "flex": null,
       "flex_flow": null,
       "grid_area": null,
       "grid_auto_columns": null,
       "grid_auto_flow": null,
       "grid_auto_rows": null,
       "grid_column": null,
       "grid_gap": null,
       "grid_row": null,
       "grid_template_areas": null,
       "grid_template_columns": null,
       "grid_template_rows": null,
       "height": null,
       "justify_content": null,
       "justify_items": null,
       "left": null,
       "margin": null,
       "max_height": null,
       "max_width": null,
       "min_height": null,
       "min_width": null,
       "object_fit": null,
       "object_position": null,
       "order": null,
       "overflow": null,
       "overflow_x": null,
       "overflow_y": null,
       "padding": null,
       "right": null,
       "top": null,
       "visibility": null,
       "width": null
      }
     },
     "f483915ae86d4d1da82fe0fac7bef62c": {
      "model_module": "@jupyter-widgets/base",
      "model_module_version": "1.2.0",
      "model_name": "LayoutModel",
      "state": {
       "_model_module": "@jupyter-widgets/base",
       "_model_module_version": "1.2.0",
       "_model_name": "LayoutModel",
       "_view_count": null,
       "_view_module": "@jupyter-widgets/base",
       "_view_module_version": "1.2.0",
       "_view_name": "LayoutView",
       "align_content": null,
       "align_items": null,
       "align_self": null,
       "border": null,
       "bottom": null,
       "display": null,
       "flex": null,
       "flex_flow": null,
       "grid_area": null,
       "grid_auto_columns": null,
       "grid_auto_flow": null,
       "grid_auto_rows": null,
       "grid_column": null,
       "grid_gap": null,
       "grid_row": null,
       "grid_template_areas": null,
       "grid_template_columns": null,
       "grid_template_rows": null,
       "height": null,
       "justify_content": null,
       "justify_items": null,
       "left": null,
       "margin": null,
       "max_height": null,
       "max_width": null,
       "min_height": null,
       "min_width": null,
       "object_fit": null,
       "object_position": null,
       "order": null,
       "overflow": null,
       "overflow_x": null,
       "overflow_y": null,
       "padding": null,
       "right": null,
       "top": null,
       "visibility": null,
       "width": null
      }
     },
     "f613ce730e824b6cba14a6c93380b088": {
      "model_module": "@jupyter-widgets/base",
      "model_module_version": "1.2.0",
      "model_name": "LayoutModel",
      "state": {
       "_model_module": "@jupyter-widgets/base",
       "_model_module_version": "1.2.0",
       "_model_name": "LayoutModel",
       "_view_count": null,
       "_view_module": "@jupyter-widgets/base",
       "_view_module_version": "1.2.0",
       "_view_name": "LayoutView",
       "align_content": null,
       "align_items": null,
       "align_self": null,
       "border": null,
       "bottom": null,
       "display": null,
       "flex": null,
       "flex_flow": null,
       "grid_area": null,
       "grid_auto_columns": null,
       "grid_auto_flow": null,
       "grid_auto_rows": null,
       "grid_column": null,
       "grid_gap": null,
       "grid_row": null,
       "grid_template_areas": null,
       "grid_template_columns": null,
       "grid_template_rows": null,
       "height": null,
       "justify_content": null,
       "justify_items": null,
       "left": null,
       "margin": null,
       "max_height": null,
       "max_width": null,
       "min_height": null,
       "min_width": null,
       "object_fit": null,
       "object_position": null,
       "order": null,
       "overflow": null,
       "overflow_x": null,
       "overflow_y": null,
       "padding": null,
       "right": null,
       "top": null,
       "visibility": null,
       "width": null
      }
     },
     "fc1653e225a64ebaa5bde2b7610105a5": {
      "model_module": "@jupyter-widgets/base",
      "model_module_version": "1.2.0",
      "model_name": "LayoutModel",
      "state": {
       "_model_module": "@jupyter-widgets/base",
       "_model_module_version": "1.2.0",
       "_model_name": "LayoutModel",
       "_view_count": null,
       "_view_module": "@jupyter-widgets/base",
       "_view_module_version": "1.2.0",
       "_view_name": "LayoutView",
       "align_content": null,
       "align_items": null,
       "align_self": null,
       "border": null,
       "bottom": null,
       "display": null,
       "flex": null,
       "flex_flow": null,
       "grid_area": null,
       "grid_auto_columns": null,
       "grid_auto_flow": null,
       "grid_auto_rows": null,
       "grid_column": null,
       "grid_gap": null,
       "grid_row": null,
       "grid_template_areas": null,
       "grid_template_columns": null,
       "grid_template_rows": null,
       "height": null,
       "justify_content": null,
       "justify_items": null,
       "left": null,
       "margin": null,
       "max_height": null,
       "max_width": null,
       "min_height": null,
       "min_width": null,
       "object_fit": null,
       "object_position": null,
       "order": null,
       "overflow": null,
       "overflow_x": null,
       "overflow_y": null,
       "padding": null,
       "right": null,
       "top": null,
       "visibility": null,
       "width": null
      }
     }
    },
    "version_major": 2,
    "version_minor": 0
   }
  }
 },
 "nbformat": 4,
 "nbformat_minor": 5
}
